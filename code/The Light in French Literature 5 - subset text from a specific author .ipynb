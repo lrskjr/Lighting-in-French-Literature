{
 "cells": [
  {
   "cell_type": "code",
   "execution_count": 3,
   "id": "48a629e4",
   "metadata": {},
   "outputs": [],
   "source": [
    "import re\n",
    "import os\n",
    "import pandas as pd\n",
    "from pathlib import Path"
   ]
  },
  {
   "cell_type": "code",
   "execution_count": 8,
   "id": "2998973e",
   "metadata": {},
   "outputs": [],
   "source": [
    "input_dir = Path.cwd() / '../data/csv_files' # input directory\n",
    "df = pd.read_csv(input_dir /'text_data230826.csv', sep='|')\n",
    "all_zola = ' '.join(df[df['author'] == 'Zola']['text'])\n",
    "all_balzac = ' '.join(df[df['author'] == 'Balzac']['text'])"
   ]
  },
  {
   "cell_type": "code",
   "execution_count": 9,
   "id": "194efd4f",
   "metadata": {},
   "outputs": [],
   "source": [
    "output_dir = Path.cwd() / '../data' # input directory\n",
    "with open(output_dir / 'all_of_zola.txt', 'w', encoding='utf-8-sig') as f:\n",
    "    f.write(all_zola)\n",
    "    \n",
    "with open(output_dir / 'all_of_balzac.txt', 'w', encoding='utf-8-sig') as f:\n",
    "    f.write(all_balzac)"
   ]
  },
  {
   "cell_type": "code",
   "execution_count": null,
   "id": "347cf6f6",
   "metadata": {},
   "outputs": [],
   "source": []
  }
 ],
 "metadata": {
  "kernelspec": {
   "display_name": "Python 3 (ipykernel)",
   "language": "python",
   "name": "python3"
  },
  "language_info": {
   "codemirror_mode": {
    "name": "ipython",
    "version": 3
   },
   "file_extension": ".py",
   "mimetype": "text/x-python",
   "name": "python",
   "nbconvert_exporter": "python",
   "pygments_lexer": "ipython3",
   "version": "3.10.9"
  }
 },
 "nbformat": 4,
 "nbformat_minor": 5
}
