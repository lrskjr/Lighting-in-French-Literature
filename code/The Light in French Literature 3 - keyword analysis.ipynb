{
 "cells": [
  {
   "cell_type": "code",
   "execution_count": null,
   "id": "45836733",
   "metadata": {},
   "outputs": [],
   "source": []
  },
  {
   "cell_type": "markdown",
   "id": "36832a20",
   "metadata": {},
   "source": [
    "# The Light in French Literature 2 - keyword analysis\n",
    "## - The use of lighting technologies and sensational words in the same sentence\n",
    "Which writers make the most and least use of sensational words when writting about lighting technologies?\n",
    "\n",
    "- how likely is it that a lighting technology is mentioned in a sentens containing “sensational vocabulary”?\n",
    "- how many lighting technology sentences are there?\n",
    "- how many of them contain sensational vocab?\n",
    "\n",
    "    1. split text in sentencens\n",
    "    2. count sentencens\n",
    "    3. count sentencens with lighting technology\n",
    "    4. count sentencens with lighting technology containing “sensational vocabulary”\n",
    "    5. caculate ratio of total sentencens and sentencens with lighting technology containing “sensational vocabulary”\n",
    "    6. caculate ratio of sentencens with lighting technology and sentencens with lighting technology containing “sensational vocabulary”\n",
    "    \n",
    "\n"
   ]
  },
  {
   "cell_type": "code",
   "execution_count": 1,
   "id": "2e911468",
   "metadata": {},
   "outputs": [],
   "source": [
    "import re\n",
    "import os\n",
    "import pandas as pd\n",
    "from pathlib import Path\n",
    "from tqdm.notebook import tqdm\n",
    "tqdm.pandas()"
   ]
  },
  {
   "cell_type": "markdown",
   "id": "273d73f3",
   "metadata": {},
   "source": [
    "# Prepare data\n",
    "- Data is stored in a dataframe\n",
    "- in a function we detect presens of keywords in paragraphs. To do this we split the text into paragraphs and check then one by for a keyword. If a keyword is detected in a paragraph we do not continue to search for other keywords in the same paragraph. We just register, that a keyword is found in a paragraph and moves on to the next paragraph."
   ]
  },
  {
   "cell_type": "code",
   "execution_count": 4,
   "id": "c1224ae4",
   "metadata": {},
   "outputs": [
    {
     "name": "stdout",
     "output_type": "stream",
     "text": [
      "The file name is text_data230826.csv\n",
      "\n",
      "\n",
      "Count paragraphs:\n",
      "\n"
     ]
    },
    {
     "data": {
      "application/vnd.jupyter.widget-view+json": {
       "model_id": "180e9a7f5f7e442a9f327df5e3a4c236",
       "version_major": 2,
       "version_minor": 0
      },
      "text/plain": [
       "  0%|          | 0/101 [00:00<?, ?it/s]"
      ]
     },
     "metadata": {},
     "output_type": "display_data"
    },
    {
     "name": "stdout",
     "output_type": "stream",
     "text": [
      "\n",
      "\n",
      "Count sentences with tech keywords:\n",
      "\n"
     ]
    },
    {
     "data": {
      "application/vnd.jupyter.widget-view+json": {
       "model_id": "d5e03f71aeba4cf9a4d599e03b826715",
       "version_major": 2,
       "version_minor": 0
      },
      "text/plain": [
       "  0%|          | 0/101 [00:00<?, ?it/s]"
      ]
     },
     "metadata": {},
     "output_type": "display_data"
    },
    {
     "name": "stdout",
     "output_type": "stream",
     "text": [
      "\n",
      "\n",
      "Count tech sentences that holds sensation keywords:\n",
      "\n"
     ]
    },
    {
     "data": {
      "application/vnd.jupyter.widget-view+json": {
       "model_id": "7b7ad88beb474c89a718a74bb3b80846",
       "version_major": 2,
       "version_minor": 0
      },
      "text/plain": [
       "  0%|          | 0/101 [00:00<?, ?it/s]"
      ]
     },
     "metadata": {},
     "output_type": "display_data"
    }
   ],
   "source": [
    "input_dir = Path.cwd() / '../data/csv_files' # path of files to be found\n",
    "csv_files = os.listdir(input_dir)\n",
    "print (f'The file name is {csv_files[-1]}')\n",
    "df = pd.read_csv(input_dir / csv_files[-1], sep='|')\n",
    "\n",
    "\n",
    "\n",
    "# split text in paragraphs and count paragraphs\n",
    "def count_sentences(text):\n",
    "    sent = text.split('.')\n",
    "    sent = [s.strip() for s in sent]\n",
    "    return len(sent)\n",
    "\n",
    "print ('\\n\\nCount paragraphs:\\n')\n",
    "df['count_sentences'] = df['text'].progress_apply(lambda text : count_sentences(text))\n",
    "\n",
    "\n",
    "#### Read two lists of keywords - technology and emotion keyowrds ####\n",
    "\n",
    "# path to keyword lists directory \n",
    "input_dir = Path.cwd() / '../data/key_word_lists' \n",
    "\n",
    "\n",
    "# get the tech words\n",
    "key_word_file_name = 'technology_list.txt'\n",
    "with open(input_dir / key_word_file_name, 'r', encoding='utf-8-sig') as file:\n",
    "    tech_key_words = file.read().split('\\n')\n",
    "    \n",
    "# get the emo words    \n",
    "key_word_file_name = 'sensation_list.txt'\n",
    "with open(input_dir / key_word_file_name, 'r', encoding='utf-8-sig') as file:\n",
    "    emo_key_words = file.read().split('\\n')\n",
    "\n",
    "\n",
    "\n",
    "    \n",
    "### Build function to do the teck key word counting\n",
    "def count_kw(text, key_word_list):\n",
    "    text = text.lower()\n",
    "    sentences = text.split('.')\n",
    "    list_of_sents = [s.strip() for s in sentences]\n",
    "    \n",
    "    count = 0\n",
    "    # take paragraphs one by one\n",
    "    for sent in list_of_sents:\n",
    "        # take every word in the list of keywords\n",
    "        for key_word in key_word_list:\n",
    "            # if a keyword is in the paragraph return boolean\n",
    "            if re.search(key_word, sent):\n",
    "                # then add one to the counter \n",
    "                count = count + 1\n",
    "                # and then break out and return to the beginning of the loop \n",
    "                break\n",
    "    return count\n",
    "\n",
    "def count_kw_in_kw_sent(text, key_word_list1, key_word_list2):\n",
    "    text = text.lower()\n",
    "    sentences = text.split('.')\n",
    "    list_of_sents = [s.strip() for s in sentences]\n",
    "    \n",
    "    count = 0\n",
    "    # take paragraphs one by one\n",
    "    for sent in list_of_sents:\n",
    "        \n",
    "        # take every word in the list of tech words\n",
    "        for key_word in key_word_list1:\n",
    "            # if a word from the list is in the paragraph\n",
    "            if re.search(key_word, sent):\n",
    "                for key_word in key_word_list2:\n",
    "                    if key_word in sent:\n",
    "                        # then add one to the counter \n",
    "                        count = count + 1\n",
    "                        # and then break out and return to the beginning of the loop \n",
    "                        break\n",
    "    return count\n",
    "\n",
    "\n",
    "\n",
    "######### Count keyword in paragraphs ##### \n",
    "\n",
    "print ('\\n\\nCount sentences with tech keywords:\\n')    \n",
    "df['s_lightning_kw'] = df['text'].progress_apply(lambda text : count_kw(text, tech_key_words))\n",
    "\n",
    "######### Count paragraphs with lighting technology containing “emotion vocabulary”\n",
    "print ('\\n\\nCount tech sentences that holds sensation keywords:\\n') \n",
    "df['s_lightning_emotion_kw'] = df['text'].progress_apply(lambda text : count_kw_in_kw_sent(text, tech_key_words, emo_key_words))\n"
   ]
  },
  {
   "cell_type": "code",
   "execution_count": 46,
   "id": "34775d97",
   "metadata": {},
   "outputs": [],
   "source": [
    "# get relative data\n",
    "new_df = df.copy()\n",
    "new_df['lightning technology sentence share of all sentences'] = round(new_df['s_lightning_kw'] / new_df['count_sentences'], 3) \n",
    "new_df['relative value'] = round(new_df['s_lightning_emotion_kw'] / new_df['count_sentences'], 3) \n",
    "new_df['sen and lightning technology sentence share of lightning technology sentences'] = round(new_df['s_lightning_emotion_kw'] / new_df['s_lightning_kw'], 3)\n",
    "\n",
    "new_df = new_df.iloc[:, [0, 1,2,3,6,7,8,9,10]]"
   ]
  },
  {
   "cell_type": "code",
   "execution_count": 47,
   "id": "a04f0fa2",
   "metadata": {},
   "outputs": [],
   "source": [
    "import plotly.express as px"
   ]
  },
  {
   "cell_type": "code",
   "execution_count": 50,
   "id": "6f47d150",
   "metadata": {},
   "outputs": [
    {
     "name": "stdout",
     "output_type": "stream",
     "text": [
      "\n",
      "The presens of sentences with lighting technologies and sensational words.\n",
      "We have the relative frequency of those sentences compared to all sentences in each novel.\n"
     ]
    },
    {
     "data": {
      "application/vnd.plotly.v1+json": {
       "config": {
        "plotlyServerURL": "https://plot.ly"
       },
       "data": [
        {
         "alignmentgroup": "True",
         "customdata": [
          [
           "Nouailles",
           "Le Caeur innombrable",
           1901
          ],
          [
           "Nouailles",
           "Les Eblouissements",
           1907
          ],
          [
           "Nouailles",
           "L'Ombre des jours",
           1902
          ],
          [
           "Rimbaud",
           "Poésies",
           1870
          ],
          [
           "Baudelaire",
           "Les Fleurs du Mal",
           1855
          ],
          [
           "Mallarmé",
           "Poésies",
           1899
          ],
          [
           "Vivien",
           "Flambeaux éteinte",
           1907
          ],
          [
           "Prudhomme",
           "Poésies 1865_1866",
           1865
          ],
          [
           "Vivien",
           "Cendres et poussières",
           1902
          ],
          [
           "France",
           "Les Poèmes dorés",
           1873
          ],
          [
           "Verlaine",
           "Oeuvres complètes vol 1",
           1902
          ],
          [
           "Colette",
           "La Retraite sentimentale",
           1907
          ],
          [
           "Baudelaire",
           "Le spleen de Paris",
           1869
          ],
          [
           "Laforgue",
           "Les complaintes",
           1885
          ],
          [
           "Proust",
           "Du côté de chez Swann",
           1913
          ],
          [
           "Huysmans",
           "A rebours",
           1884
          ],
          [
           "Tinayre",
           "La Rebelle",
           1906
          ],
          [
           "Rimbaud",
           "Les Illuminations",
           1872
          ],
          [
           "Proust",
           "Les Plaisirs et les jours",
           1898
          ],
          [
           "Rachilde",
           "Monsieur Vénus",
           1884
          ],
          [
           "Huysmans",
           "En route",
           1895
          ],
          [
           "Flaubert",
           "Un caeur simple",
           1877
          ],
          [
           "Huysmans",
           "La cathédrale",
           1898
          ],
          [
           "Zola",
           "La Curée",
           1871
          ],
          [
           "Tinayre",
           "La Maison du péché",
           1902
          ],
          [
           "Vivien",
           "Brumes de fjords",
           1902
          ],
          [
           "Zola",
           "La Bête humaine",
           1870
          ],
          [
           "Daudet",
           "Rose et Ninette",
           1911
          ],
          [
           "Gautier",
           "Le Capitaine Fracasse",
           1863
          ],
          [
           "Vivien",
           "Une Femme m'apparut",
           1905
          ],
          [
           "Bourget",
           "Le disciple",
           1889
          ],
          [
           "Zola",
           "Travail",
           1901
          ],
          [
           "Zola",
           "L'oeuvre",
           1886
          ],
          [
           "Féval",
           "Les Nuits de Paris Premiere nuit Gaulois et Romains",
           1852
          ],
          [
           "Huysmans",
           "Là-bas",
           1891
          ],
          [
           "Zola",
           "La Faute de l'abbé Mouret",
           1866
          ],
          [
           "Colette",
           "Claudine à Paris",
           1901
          ],
          [
           "Vallés",
           "L'Insurgé",
           1908
          ],
          [
           "Zola",
           "La Débâcle",
           1892
          ],
          [
           "Zola",
           "Le Docteur Pascal",
           1893
          ],
          [
           "Zola",
           "Germinal",
           1885
          ],
          [
           "Maupassant",
           "Les Dimanches d'un bourgeois à Paris",
           1910
          ],
          [
           "Daudet",
           "Le Soutien de Famille",
           1885
          ],
          [
           "Maupassant",
           "Une vie",
           1883
          ],
          [
           "Maupassant",
           "Miss Harriet",
           1884
          ],
          [
           "Balzac",
           "Splendeurs et misères des courtisanes 1 Esther heureuse",
           1838
          ],
          [
           "Flaubert",
           "L'éducation sentimentale",
           1869
          ],
          [
           "Zola",
           "Nana",
           1879
          ],
          [
           "Verne",
           "Voyage au centre de la terre",
           1864
          ],
          [
           "Sue",
           "Les Mystères de Paris",
           1842
          ],
          [
           "Maupassant",
           "La Maison Tellier",
           1881
          ],
          [
           "Zola",
           "La Fortune des Rougon",
           1871
          ],
          [
           "Zola",
           "Le Ventre de Paris",
           1873
          ],
          [
           "Léo",
           "Un divorce",
           1866
          ],
          [
           "Zola",
           "L'Assommoir",
           1876
          ],
          [
           "Zola",
           "La Terre",
           1887
          ],
          [
           "Balzac",
           "Le Cousin Pons",
           1847
          ],
          [
           "Dumas",
           "Le Compte de Monte Cristo",
           1844
          ],
          [
           "Maupassant",
           "Bel-ami",
           1885
          ],
          [
           "Maupassant",
           "Bel ami édition 1901",
           1885
          ],
          [
           "Vallés",
           "Le Bachelier",
           1909
          ],
          [
           "Zola",
           "La Joie de vivre",
           1884
          ],
          [
           "Zola",
           "Une page d'amour",
           1878
          ],
          [
           "Daudet",
           "Les rois en exil",
           1879
          ],
          [
           "Balzac",
           "Splendeurs et misères des courtisanes 4 La dernière incarnation de Vautrin",
           1838
          ],
          [
           "Balzac",
           "La Cousine Bette",
           1846
          ],
          [
           "Dickens",
           "Le conte des deux cités",
           1859
          ],
          [
           "Hugo",
           "Les Misérables",
           1862
          ],
          [
           "Audoux",
           "Marie-Claire",
           1910
          ],
          [
           "Colette",
           "La Vagabonde",
           1910
          ],
          [
           "Zola",
           "Thérèse Raquin",
           1867
          ],
          [
           "DelarueMardrus",
           "Comme tout le monde",
           1910
          ],
          [
           "Verne",
           "Vingt mille lieues sous les mers",
           1869
          ],
          [
           "Zola",
           "Au bonheur des dames",
           1883
          ],
          [
           "Flaubert",
           "Hérodias",
           1877
          ],
          [
           "Flaubert",
           "La Légende de Saint Julien l'Hospitalier",
           1877
          ],
          [
           "Zola",
           "La Conquête de Plassans",
           1874
          ],
          [
           "Zola",
           "L'Argent",
           1891
          ],
          [
           "Flaubert",
           "Bouvard et Pécuchet",
           1881
          ],
          [
           "Zola",
           "Le Rêve",
           1888
          ],
          [
           "Balzac",
           "Splendeurs et misères des courtisanes 3 Où mènent les mauvais chemins",
           1838
          ],
          [
           "Maupassant",
           "Claire de Lune",
           1883
          ],
          [
           "James",
           "L'Américain à Paris tome 2",
           1877
          ],
          [
           "Colette",
           "L'Ingénue libertine",
           1909
          ],
          [
           "Balzac",
           "La Rabouilleuse",
           1842
          ],
          [
           "James",
           "L'Américain à Paris tome 1",
           1877
          ],
          [
           "Maupassant",
           "Contes du jour et de la nuit",
           1885
          ],
          [
           "Dumas",
           "Les Trois Mousquetaires",
           1844
          ],
          [
           "Zola",
           "Pot-bouille",
           1882
          ],
          [
           "Bovet",
           "Autour de l'étendard",
           1904
          ],
          [
           "Mérimée",
           "Carmen",
           1847
          ],
          [
           "Dumas",
           "La Dame aux camélias",
           1848
          ],
          [
           "Zola",
           "Son Excellence Eugène Rougon",
           1876
          ],
          [
           "Vallès",
           "L'Enfant",
           1889
          ],
          [
           "France",
           "Histoire contemporaine IV Monsieur Bergeret à Paris",
           1901
          ],
          [
           "France",
           "Le Lys rouge",
           1894
          ],
          [
           "Gyp",
           "Les Malheurs de Sophie",
           1898
          ],
          [
           "Verne",
           "Le Tour du monde en quatre-vingts jours",
           1872
          ],
          [
           "Nerval",
           "Les Chimères",
           1854
          ],
          [
           "Maupassant",
           "La parure",
           1884
          ],
          [
           "Balzac",
           "Splendeurs et misères des courtisanes 2 A combien l'amour revient aux vieillards",
           1838
          ]
         ],
         "hovertemplate": "x=%{x}<br>relative value=%{y}<br>author=%{customdata[0]}<br>title=%{customdata[1]}<br>year=%{customdata[2]}<extra></extra>",
         "legendgroup": "",
         "marker": {
          "color": "#636efa",
          "pattern": {
           "shape": ""
          }
         },
         "name": "",
         "offsetgroup": "",
         "orientation": "v",
         "showlegend": false,
         "textposition": "auto",
         "type": "bar",
         "x": [
          1,
          2,
          3,
          4,
          5,
          6,
          7,
          8,
          9,
          10,
          11,
          12,
          13,
          14,
          15,
          16,
          17,
          18,
          19,
          20,
          21,
          22,
          23,
          24,
          25,
          26,
          27,
          28,
          29,
          30,
          31,
          32,
          33,
          34,
          35,
          36,
          37,
          38,
          39,
          40,
          41,
          42,
          43,
          44,
          45,
          46,
          47,
          48,
          49,
          50,
          51,
          52,
          53,
          54,
          55,
          56,
          57,
          58,
          59,
          60,
          61,
          62,
          63,
          64,
          65,
          66,
          67,
          68,
          69,
          70,
          71,
          72,
          73,
          74,
          75,
          76,
          77,
          78,
          79,
          80,
          81,
          82,
          83,
          84,
          85,
          86,
          87,
          88,
          89,
          90,
          91,
          92,
          93,
          94,
          95,
          96,
          97,
          98,
          99,
          100,
          101
         ],
         "xaxis": "x",
         "y": [
          0.117,
          0.102,
          0.072,
          0.061,
          0.059,
          0.036,
          0.031,
          0.03,
          0.026,
          0.021,
          0.021,
          0.02,
          0.018,
          0.017,
          0.013,
          0.013,
          0.013,
          0.012,
          0.012,
          0.011,
          0.011,
          0.01,
          0.01,
          0.008,
          0.008,
          0.008,
          0.007,
          0.007,
          0.007,
          0.006,
          0.006,
          0.006,
          0.006,
          0.005,
          0.005,
          0.005,
          0.005,
          0.004,
          0.004,
          0.004,
          0.004,
          0.004,
          0.004,
          0.004,
          0.004,
          0.004,
          0.004,
          0.004,
          0.004,
          0.004,
          0.003,
          0.003,
          0.003,
          0.003,
          0.003,
          0.003,
          0.003,
          0.003,
          0.003,
          0.003,
          0.003,
          0.003,
          0.003,
          0.003,
          0.003,
          0.002,
          0.002,
          0.002,
          0.002,
          0.002,
          0.002,
          0.002,
          0.002,
          0.002,
          0.002,
          0.002,
          0.002,
          0.002,
          0.002,
          0.002,
          0.001,
          0.001,
          0.001,
          0.001,
          0.001,
          0.001,
          0.001,
          0.001,
          0.001,
          0.001,
          0.001,
          0.001,
          0.001,
          0.001,
          0.001,
          0.001,
          0.001,
          0,
          0,
          0,
          0
         ],
         "yaxis": "y"
        }
       ],
       "layout": {
        "barmode": "relative",
        "legend": {
         "tracegroupgap": 0
        },
        "margin": {
         "t": 60
        },
        "template": {
         "data": {
          "bar": [
           {
            "error_x": {
             "color": "#2a3f5f"
            },
            "error_y": {
             "color": "#2a3f5f"
            },
            "marker": {
             "line": {
              "color": "#E5ECF6",
              "width": 0.5
             },
             "pattern": {
              "fillmode": "overlay",
              "size": 10,
              "solidity": 0.2
             }
            },
            "type": "bar"
           }
          ],
          "barpolar": [
           {
            "marker": {
             "line": {
              "color": "#E5ECF6",
              "width": 0.5
             },
             "pattern": {
              "fillmode": "overlay",
              "size": 10,
              "solidity": 0.2
             }
            },
            "type": "barpolar"
           }
          ],
          "carpet": [
           {
            "aaxis": {
             "endlinecolor": "#2a3f5f",
             "gridcolor": "white",
             "linecolor": "white",
             "minorgridcolor": "white",
             "startlinecolor": "#2a3f5f"
            },
            "baxis": {
             "endlinecolor": "#2a3f5f",
             "gridcolor": "white",
             "linecolor": "white",
             "minorgridcolor": "white",
             "startlinecolor": "#2a3f5f"
            },
            "type": "carpet"
           }
          ],
          "choropleth": [
           {
            "colorbar": {
             "outlinewidth": 0,
             "ticks": ""
            },
            "type": "choropleth"
           }
          ],
          "contour": [
           {
            "colorbar": {
             "outlinewidth": 0,
             "ticks": ""
            },
            "colorscale": [
             [
              0,
              "#0d0887"
             ],
             [
              0.1111111111111111,
              "#46039f"
             ],
             [
              0.2222222222222222,
              "#7201a8"
             ],
             [
              0.3333333333333333,
              "#9c179e"
             ],
             [
              0.4444444444444444,
              "#bd3786"
             ],
             [
              0.5555555555555556,
              "#d8576b"
             ],
             [
              0.6666666666666666,
              "#ed7953"
             ],
             [
              0.7777777777777778,
              "#fb9f3a"
             ],
             [
              0.8888888888888888,
              "#fdca26"
             ],
             [
              1,
              "#f0f921"
             ]
            ],
            "type": "contour"
           }
          ],
          "contourcarpet": [
           {
            "colorbar": {
             "outlinewidth": 0,
             "ticks": ""
            },
            "type": "contourcarpet"
           }
          ],
          "heatmap": [
           {
            "colorbar": {
             "outlinewidth": 0,
             "ticks": ""
            },
            "colorscale": [
             [
              0,
              "#0d0887"
             ],
             [
              0.1111111111111111,
              "#46039f"
             ],
             [
              0.2222222222222222,
              "#7201a8"
             ],
             [
              0.3333333333333333,
              "#9c179e"
             ],
             [
              0.4444444444444444,
              "#bd3786"
             ],
             [
              0.5555555555555556,
              "#d8576b"
             ],
             [
              0.6666666666666666,
              "#ed7953"
             ],
             [
              0.7777777777777778,
              "#fb9f3a"
             ],
             [
              0.8888888888888888,
              "#fdca26"
             ],
             [
              1,
              "#f0f921"
             ]
            ],
            "type": "heatmap"
           }
          ],
          "heatmapgl": [
           {
            "colorbar": {
             "outlinewidth": 0,
             "ticks": ""
            },
            "colorscale": [
             [
              0,
              "#0d0887"
             ],
             [
              0.1111111111111111,
              "#46039f"
             ],
             [
              0.2222222222222222,
              "#7201a8"
             ],
             [
              0.3333333333333333,
              "#9c179e"
             ],
             [
              0.4444444444444444,
              "#bd3786"
             ],
             [
              0.5555555555555556,
              "#d8576b"
             ],
             [
              0.6666666666666666,
              "#ed7953"
             ],
             [
              0.7777777777777778,
              "#fb9f3a"
             ],
             [
              0.8888888888888888,
              "#fdca26"
             ],
             [
              1,
              "#f0f921"
             ]
            ],
            "type": "heatmapgl"
           }
          ],
          "histogram": [
           {
            "marker": {
             "pattern": {
              "fillmode": "overlay",
              "size": 10,
              "solidity": 0.2
             }
            },
            "type": "histogram"
           }
          ],
          "histogram2d": [
           {
            "colorbar": {
             "outlinewidth": 0,
             "ticks": ""
            },
            "colorscale": [
             [
              0,
              "#0d0887"
             ],
             [
              0.1111111111111111,
              "#46039f"
             ],
             [
              0.2222222222222222,
              "#7201a8"
             ],
             [
              0.3333333333333333,
              "#9c179e"
             ],
             [
              0.4444444444444444,
              "#bd3786"
             ],
             [
              0.5555555555555556,
              "#d8576b"
             ],
             [
              0.6666666666666666,
              "#ed7953"
             ],
             [
              0.7777777777777778,
              "#fb9f3a"
             ],
             [
              0.8888888888888888,
              "#fdca26"
             ],
             [
              1,
              "#f0f921"
             ]
            ],
            "type": "histogram2d"
           }
          ],
          "histogram2dcontour": [
           {
            "colorbar": {
             "outlinewidth": 0,
             "ticks": ""
            },
            "colorscale": [
             [
              0,
              "#0d0887"
             ],
             [
              0.1111111111111111,
              "#46039f"
             ],
             [
              0.2222222222222222,
              "#7201a8"
             ],
             [
              0.3333333333333333,
              "#9c179e"
             ],
             [
              0.4444444444444444,
              "#bd3786"
             ],
             [
              0.5555555555555556,
              "#d8576b"
             ],
             [
              0.6666666666666666,
              "#ed7953"
             ],
             [
              0.7777777777777778,
              "#fb9f3a"
             ],
             [
              0.8888888888888888,
              "#fdca26"
             ],
             [
              1,
              "#f0f921"
             ]
            ],
            "type": "histogram2dcontour"
           }
          ],
          "mesh3d": [
           {
            "colorbar": {
             "outlinewidth": 0,
             "ticks": ""
            },
            "type": "mesh3d"
           }
          ],
          "parcoords": [
           {
            "line": {
             "colorbar": {
              "outlinewidth": 0,
              "ticks": ""
             }
            },
            "type": "parcoords"
           }
          ],
          "pie": [
           {
            "automargin": true,
            "type": "pie"
           }
          ],
          "scatter": [
           {
            "fillpattern": {
             "fillmode": "overlay",
             "size": 10,
             "solidity": 0.2
            },
            "type": "scatter"
           }
          ],
          "scatter3d": [
           {
            "line": {
             "colorbar": {
              "outlinewidth": 0,
              "ticks": ""
             }
            },
            "marker": {
             "colorbar": {
              "outlinewidth": 0,
              "ticks": ""
             }
            },
            "type": "scatter3d"
           }
          ],
          "scattercarpet": [
           {
            "marker": {
             "colorbar": {
              "outlinewidth": 0,
              "ticks": ""
             }
            },
            "type": "scattercarpet"
           }
          ],
          "scattergeo": [
           {
            "marker": {
             "colorbar": {
              "outlinewidth": 0,
              "ticks": ""
             }
            },
            "type": "scattergeo"
           }
          ],
          "scattergl": [
           {
            "marker": {
             "colorbar": {
              "outlinewidth": 0,
              "ticks": ""
             }
            },
            "type": "scattergl"
           }
          ],
          "scattermapbox": [
           {
            "marker": {
             "colorbar": {
              "outlinewidth": 0,
              "ticks": ""
             }
            },
            "type": "scattermapbox"
           }
          ],
          "scatterpolar": [
           {
            "marker": {
             "colorbar": {
              "outlinewidth": 0,
              "ticks": ""
             }
            },
            "type": "scatterpolar"
           }
          ],
          "scatterpolargl": [
           {
            "marker": {
             "colorbar": {
              "outlinewidth": 0,
              "ticks": ""
             }
            },
            "type": "scatterpolargl"
           }
          ],
          "scatterternary": [
           {
            "marker": {
             "colorbar": {
              "outlinewidth": 0,
              "ticks": ""
             }
            },
            "type": "scatterternary"
           }
          ],
          "surface": [
           {
            "colorbar": {
             "outlinewidth": 0,
             "ticks": ""
            },
            "colorscale": [
             [
              0,
              "#0d0887"
             ],
             [
              0.1111111111111111,
              "#46039f"
             ],
             [
              0.2222222222222222,
              "#7201a8"
             ],
             [
              0.3333333333333333,
              "#9c179e"
             ],
             [
              0.4444444444444444,
              "#bd3786"
             ],
             [
              0.5555555555555556,
              "#d8576b"
             ],
             [
              0.6666666666666666,
              "#ed7953"
             ],
             [
              0.7777777777777778,
              "#fb9f3a"
             ],
             [
              0.8888888888888888,
              "#fdca26"
             ],
             [
              1,
              "#f0f921"
             ]
            ],
            "type": "surface"
           }
          ],
          "table": [
           {
            "cells": {
             "fill": {
              "color": "#EBF0F8"
             },
             "line": {
              "color": "white"
             }
            },
            "header": {
             "fill": {
              "color": "#C8D4E3"
             },
             "line": {
              "color": "white"
             }
            },
            "type": "table"
           }
          ]
         },
         "layout": {
          "annotationdefaults": {
           "arrowcolor": "#2a3f5f",
           "arrowhead": 0,
           "arrowwidth": 1
          },
          "autotypenumbers": "strict",
          "coloraxis": {
           "colorbar": {
            "outlinewidth": 0,
            "ticks": ""
           }
          },
          "colorscale": {
           "diverging": [
            [
             0,
             "#8e0152"
            ],
            [
             0.1,
             "#c51b7d"
            ],
            [
             0.2,
             "#de77ae"
            ],
            [
             0.3,
             "#f1b6da"
            ],
            [
             0.4,
             "#fde0ef"
            ],
            [
             0.5,
             "#f7f7f7"
            ],
            [
             0.6,
             "#e6f5d0"
            ],
            [
             0.7,
             "#b8e186"
            ],
            [
             0.8,
             "#7fbc41"
            ],
            [
             0.9,
             "#4d9221"
            ],
            [
             1,
             "#276419"
            ]
           ],
           "sequential": [
            [
             0,
             "#0d0887"
            ],
            [
             0.1111111111111111,
             "#46039f"
            ],
            [
             0.2222222222222222,
             "#7201a8"
            ],
            [
             0.3333333333333333,
             "#9c179e"
            ],
            [
             0.4444444444444444,
             "#bd3786"
            ],
            [
             0.5555555555555556,
             "#d8576b"
            ],
            [
             0.6666666666666666,
             "#ed7953"
            ],
            [
             0.7777777777777778,
             "#fb9f3a"
            ],
            [
             0.8888888888888888,
             "#fdca26"
            ],
            [
             1,
             "#f0f921"
            ]
           ],
           "sequentialminus": [
            [
             0,
             "#0d0887"
            ],
            [
             0.1111111111111111,
             "#46039f"
            ],
            [
             0.2222222222222222,
             "#7201a8"
            ],
            [
             0.3333333333333333,
             "#9c179e"
            ],
            [
             0.4444444444444444,
             "#bd3786"
            ],
            [
             0.5555555555555556,
             "#d8576b"
            ],
            [
             0.6666666666666666,
             "#ed7953"
            ],
            [
             0.7777777777777778,
             "#fb9f3a"
            ],
            [
             0.8888888888888888,
             "#fdca26"
            ],
            [
             1,
             "#f0f921"
            ]
           ]
          },
          "colorway": [
           "#636efa",
           "#EF553B",
           "#00cc96",
           "#ab63fa",
           "#FFA15A",
           "#19d3f3",
           "#FF6692",
           "#B6E880",
           "#FF97FF",
           "#FECB52"
          ],
          "font": {
           "color": "#2a3f5f"
          },
          "geo": {
           "bgcolor": "white",
           "lakecolor": "white",
           "landcolor": "#E5ECF6",
           "showlakes": true,
           "showland": true,
           "subunitcolor": "white"
          },
          "hoverlabel": {
           "align": "left"
          },
          "hovermode": "closest",
          "mapbox": {
           "style": "light"
          },
          "paper_bgcolor": "white",
          "plot_bgcolor": "#E5ECF6",
          "polar": {
           "angularaxis": {
            "gridcolor": "white",
            "linecolor": "white",
            "ticks": ""
           },
           "bgcolor": "#E5ECF6",
           "radialaxis": {
            "gridcolor": "white",
            "linecolor": "white",
            "ticks": ""
           }
          },
          "scene": {
           "xaxis": {
            "backgroundcolor": "#E5ECF6",
            "gridcolor": "white",
            "gridwidth": 2,
            "linecolor": "white",
            "showbackground": true,
            "ticks": "",
            "zerolinecolor": "white"
           },
           "yaxis": {
            "backgroundcolor": "#E5ECF6",
            "gridcolor": "white",
            "gridwidth": 2,
            "linecolor": "white",
            "showbackground": true,
            "ticks": "",
            "zerolinecolor": "white"
           },
           "zaxis": {
            "backgroundcolor": "#E5ECF6",
            "gridcolor": "white",
            "gridwidth": 2,
            "linecolor": "white",
            "showbackground": true,
            "ticks": "",
            "zerolinecolor": "white"
           }
          },
          "shapedefaults": {
           "line": {
            "color": "#2a3f5f"
           }
          },
          "ternary": {
           "aaxis": {
            "gridcolor": "white",
            "linecolor": "white",
            "ticks": ""
           },
           "baxis": {
            "gridcolor": "white",
            "linecolor": "white",
            "ticks": ""
           },
           "bgcolor": "#E5ECF6",
           "caxis": {
            "gridcolor": "white",
            "linecolor": "white",
            "ticks": ""
           }
          },
          "title": {
           "x": 0.05
          },
          "xaxis": {
           "automargin": true,
           "gridcolor": "white",
           "linecolor": "white",
           "ticks": "",
           "title": {
            "standoff": 15
           },
           "zerolinecolor": "white",
           "zerolinewidth": 2
          },
          "yaxis": {
           "automargin": true,
           "gridcolor": "white",
           "linecolor": "white",
           "ticks": "",
           "title": {
            "standoff": 15
           },
           "zerolinecolor": "white",
           "zerolinewidth": 2
          }
         }
        },
        "xaxis": {
         "anchor": "y",
         "domain": [
          0,
          1
         ],
         "title": {
          "text": "Document in chronological order"
         }
        },
        "yaxis": {
         "anchor": "x",
         "domain": [
          0,
          1
         ],
         "title": {
          "text": "Relative value"
         }
        }
       }
      },
      "text/html": [
       "<div>                            <div id=\"16e7e160-88cf-48c1-b70d-b47324b19f2a\" class=\"plotly-graph-div\" style=\"height:525px; width:100%;\"></div>            <script type=\"text/javascript\">                require([\"plotly\"], function(Plotly) {                    window.PLOTLYENV=window.PLOTLYENV || {};                                    if (document.getElementById(\"16e7e160-88cf-48c1-b70d-b47324b19f2a\")) {                    Plotly.newPlot(                        \"16e7e160-88cf-48c1-b70d-b47324b19f2a\",                        [{\"alignmentgroup\":\"True\",\"customdata\":[[\"Nouailles\",\"Le Caeur innombrable\",1901],[\"Nouailles\",\"Les Eblouissements\",1907],[\"Nouailles\",\"L'Ombre des jours\",1902],[\"Rimbaud\",\"Po\\u00e9sies\",1870],[\"Baudelaire\",\"Les Fleurs du Mal\",1855],[\"Mallarm\\u00e9\",\"Po\\u00e9sies\",1899],[\"Vivien\",\"Flambeaux \\u00e9teinte\",1907],[\"Prudhomme\",\"Po\\u00e9sies 1865_1866\",1865],[\"Vivien\",\"Cendres et poussi\\u00e8res\",1902],[\"France\",\"Les Po\\u00e8mes dor\\u00e9s\",1873],[\"Verlaine\",\"Oeuvres compl\\u00e8tes vol 1\",1902],[\"Colette\",\"La Retraite sentimentale\",1907],[\"Baudelaire\",\"Le spleen de Paris\",1869],[\"Laforgue\",\"Les complaintes\",1885],[\"Proust\",\"Du c\\u00f4t\\u00e9 de chez Swann\",1913],[\"Huysmans\",\"A rebours\",1884],[\"Tinayre\",\"La Rebelle\",1906],[\"Rimbaud\",\"Les Illuminations\",1872],[\"Proust\",\"Les Plaisirs et les jours\",1898],[\"Rachilde\",\"Monsieur V\\u00e9nus\",1884],[\"Huysmans\",\"En route\",1895],[\"Flaubert\",\"Un caeur simple\",1877],[\"Huysmans\",\"La cath\\u00e9drale\",1898],[\"Zola\",\"La Cur\\u00e9e\",1871],[\"Tinayre\",\"La Maison du p\\u00e9ch\\u00e9\",1902],[\"Vivien\",\"Brumes de fjords\",1902],[\"Zola\",\"La B\\u00eate humaine\",1870],[\"Daudet\",\"Rose et Ninette\",1911],[\"Gautier\",\"Le Capitaine Fracasse\",1863],[\"Vivien\",\"Une Femme m'apparut\",1905],[\"Bourget\",\"Le disciple\",1889],[\"Zola\",\"Travail\",1901],[\"Zola\",\"L'oeuvre\",1886],[\"F\\u00e9val\",\"Les Nuits de Paris Premiere nuit Gaulois et Romains\",1852],[\"Huysmans\",\"L\\u00e0-bas\",1891],[\"Zola\",\"La Faute de l'abb\\u00e9 Mouret\",1866],[\"Colette\",\"Claudine \\u00e0 Paris\",1901],[\"Vall\\u00e9s\",\"L'Insurg\\u00e9\",1908],[\"Zola\",\"La D\\u00e9b\\u00e2cle\",1892],[\"Zola\",\"Le Docteur Pascal\",1893],[\"Zola\",\"Germinal\",1885],[\"Maupassant\",\"Les Dimanches d'un bourgeois \\u00e0 Paris\",1910],[\"Daudet\",\"Le Soutien de Famille\",1885],[\"Maupassant\",\"Une vie\",1883],[\"Maupassant\",\"Miss Harriet\",1884],[\"Balzac\",\"Splendeurs et mis\\u00e8res des courtisanes 1 Esther heureuse\",1838],[\"Flaubert\",\"L'\\u00e9ducation sentimentale\",1869],[\"Zola\",\"Nana\",1879],[\"Verne\",\"Voyage au centre de la terre\",1864],[\"Sue\",\"Les Myst\\u00e8res de Paris\",1842],[\"Maupassant\",\"La Maison Tellier\",1881],[\"Zola\",\"La Fortune des Rougon\",1871],[\"Zola\",\"Le Ventre de Paris\",1873],[\"L\\u00e9o\",\"Un divorce\",1866],[\"Zola\",\"L'Assommoir\",1876],[\"Zola\",\"La Terre\",1887],[\"Balzac\",\"Le Cousin Pons\",1847],[\"Dumas\",\"Le Compte de Monte Cristo\",1844],[\"Maupassant\",\"Bel-ami\",1885],[\"Maupassant\",\"Bel ami \\u00e9dition 1901\",1885],[\"Vall\\u00e9s\",\"Le Bachelier\",1909],[\"Zola\",\"La Joie de vivre\",1884],[\"Zola\",\"Une page d'amour\",1878],[\"Daudet\",\"Les rois en exil\",1879],[\"Balzac\",\"Splendeurs et mis\\u00e8res des courtisanes 4 La derni\\u00e8re incarnation de Vautrin\",1838],[\"Balzac\",\"La Cousine Bette\",1846],[\"Dickens\",\"Le conte des deux cit\\u00e9s\",1859],[\"Hugo\",\"Les Mis\\u00e9rables\",1862],[\"Audoux\",\"Marie-Claire\",1910],[\"Colette\",\"La Vagabonde\",1910],[\"Zola\",\"Th\\u00e9r\\u00e8se Raquin\",1867],[\"DelarueMardrus\",\"Comme tout le monde\",1910],[\"Verne\",\"Vingt mille lieues sous les mers\",1869],[\"Zola\",\"Au bonheur des dames\",1883],[\"Flaubert\",\"H\\u00e9rodias\",1877],[\"Flaubert\",\"La L\\u00e9gende de Saint Julien l'Hospitalier\",1877],[\"Zola\",\"La Conqu\\u00eate de Plassans\",1874],[\"Zola\",\"L'Argent\",1891],[\"Flaubert\",\"Bouvard et P\\u00e9cuchet\",1881],[\"Zola\",\"Le R\\u00eave\",1888],[\"Balzac\",\"Splendeurs et mis\\u00e8res des courtisanes 3 O\\u00f9 m\\u00e8nent les mauvais chemins\",1838],[\"Maupassant\",\"Claire de Lune\",1883],[\"James\",\"L'Am\\u00e9ricain \\u00e0 Paris tome 2\",1877],[\"Colette\",\"L'Ing\\u00e9nue libertine\",1909],[\"Balzac\",\"La Rabouilleuse\",1842],[\"James\",\"L'Am\\u00e9ricain \\u00e0 Paris tome 1\",1877],[\"Maupassant\",\"Contes du jour et de la nuit\",1885],[\"Dumas\",\"Les Trois Mousquetaires\",1844],[\"Zola\",\"Pot-bouille\",1882],[\"Bovet\",\"Autour de l'\\u00e9tendard\",1904],[\"M\\u00e9rim\\u00e9e\",\"Carmen\",1847],[\"Dumas\",\"La Dame aux cam\\u00e9lias\",1848],[\"Zola\",\"Son Excellence Eug\\u00e8ne Rougon\",1876],[\"Vall\\u00e8s\",\"L'Enfant\",1889],[\"France\",\"Histoire contemporaine IV Monsieur Bergeret \\u00e0 Paris\",1901],[\"France\",\"Le Lys rouge\",1894],[\"Gyp\",\"Les Malheurs de Sophie\",1898],[\"Verne\",\"Le Tour du monde en quatre-vingts jours\",1872],[\"Nerval\",\"Les Chim\\u00e8res\",1854],[\"Maupassant\",\"La parure\",1884],[\"Balzac\",\"Splendeurs et mis\\u00e8res des courtisanes 2 A combien l'amour revient aux vieillards\",1838]],\"hovertemplate\":\"x=%{x}<br>relative value=%{y}<br>author=%{customdata[0]}<br>title=%{customdata[1]}<br>year=%{customdata[2]}<extra></extra>\",\"legendgroup\":\"\",\"marker\":{\"color\":\"#636efa\",\"pattern\":{\"shape\":\"\"}},\"name\":\"\",\"offsetgroup\":\"\",\"orientation\":\"v\",\"showlegend\":false,\"textposition\":\"auto\",\"x\":[1,2,3,4,5,6,7,8,9,10,11,12,13,14,15,16,17,18,19,20,21,22,23,24,25,26,27,28,29,30,31,32,33,34,35,36,37,38,39,40,41,42,43,44,45,46,47,48,49,50,51,52,53,54,55,56,57,58,59,60,61,62,63,64,65,66,67,68,69,70,71,72,73,74,75,76,77,78,79,80,81,82,83,84,85,86,87,88,89,90,91,92,93,94,95,96,97,98,99,100,101],\"xaxis\":\"x\",\"y\":[0.117,0.102,0.072,0.061,0.059,0.036,0.031,0.03,0.026,0.021,0.021,0.02,0.018,0.017,0.013,0.013,0.013,0.012,0.012,0.011,0.011,0.01,0.01,0.008,0.008,0.008,0.007,0.007,0.007,0.006,0.006,0.006,0.006,0.005,0.005,0.005,0.005,0.004,0.004,0.004,0.004,0.004,0.004,0.004,0.004,0.004,0.004,0.004,0.004,0.004,0.003,0.003,0.003,0.003,0.003,0.003,0.003,0.003,0.003,0.003,0.003,0.003,0.003,0.003,0.003,0.002,0.002,0.002,0.002,0.002,0.002,0.002,0.002,0.002,0.002,0.002,0.002,0.002,0.002,0.002,0.001,0.001,0.001,0.001,0.001,0.001,0.001,0.001,0.001,0.001,0.001,0.001,0.001,0.001,0.001,0.001,0.001,0.0,0.0,0.0,0.0],\"yaxis\":\"y\",\"type\":\"bar\"}],                        {\"template\":{\"data\":{\"histogram2dcontour\":[{\"type\":\"histogram2dcontour\",\"colorbar\":{\"outlinewidth\":0,\"ticks\":\"\"},\"colorscale\":[[0.0,\"#0d0887\"],[0.1111111111111111,\"#46039f\"],[0.2222222222222222,\"#7201a8\"],[0.3333333333333333,\"#9c179e\"],[0.4444444444444444,\"#bd3786\"],[0.5555555555555556,\"#d8576b\"],[0.6666666666666666,\"#ed7953\"],[0.7777777777777778,\"#fb9f3a\"],[0.8888888888888888,\"#fdca26\"],[1.0,\"#f0f921\"]]}],\"choropleth\":[{\"type\":\"choropleth\",\"colorbar\":{\"outlinewidth\":0,\"ticks\":\"\"}}],\"histogram2d\":[{\"type\":\"histogram2d\",\"colorbar\":{\"outlinewidth\":0,\"ticks\":\"\"},\"colorscale\":[[0.0,\"#0d0887\"],[0.1111111111111111,\"#46039f\"],[0.2222222222222222,\"#7201a8\"],[0.3333333333333333,\"#9c179e\"],[0.4444444444444444,\"#bd3786\"],[0.5555555555555556,\"#d8576b\"],[0.6666666666666666,\"#ed7953\"],[0.7777777777777778,\"#fb9f3a\"],[0.8888888888888888,\"#fdca26\"],[1.0,\"#f0f921\"]]}],\"heatmap\":[{\"type\":\"heatmap\",\"colorbar\":{\"outlinewidth\":0,\"ticks\":\"\"},\"colorscale\":[[0.0,\"#0d0887\"],[0.1111111111111111,\"#46039f\"],[0.2222222222222222,\"#7201a8\"],[0.3333333333333333,\"#9c179e\"],[0.4444444444444444,\"#bd3786\"],[0.5555555555555556,\"#d8576b\"],[0.6666666666666666,\"#ed7953\"],[0.7777777777777778,\"#fb9f3a\"],[0.8888888888888888,\"#fdca26\"],[1.0,\"#f0f921\"]]}],\"heatmapgl\":[{\"type\":\"heatmapgl\",\"colorbar\":{\"outlinewidth\":0,\"ticks\":\"\"},\"colorscale\":[[0.0,\"#0d0887\"],[0.1111111111111111,\"#46039f\"],[0.2222222222222222,\"#7201a8\"],[0.3333333333333333,\"#9c179e\"],[0.4444444444444444,\"#bd3786\"],[0.5555555555555556,\"#d8576b\"],[0.6666666666666666,\"#ed7953\"],[0.7777777777777778,\"#fb9f3a\"],[0.8888888888888888,\"#fdca26\"],[1.0,\"#f0f921\"]]}],\"contourcarpet\":[{\"type\":\"contourcarpet\",\"colorbar\":{\"outlinewidth\":0,\"ticks\":\"\"}}],\"contour\":[{\"type\":\"contour\",\"colorbar\":{\"outlinewidth\":0,\"ticks\":\"\"},\"colorscale\":[[0.0,\"#0d0887\"],[0.1111111111111111,\"#46039f\"],[0.2222222222222222,\"#7201a8\"],[0.3333333333333333,\"#9c179e\"],[0.4444444444444444,\"#bd3786\"],[0.5555555555555556,\"#d8576b\"],[0.6666666666666666,\"#ed7953\"],[0.7777777777777778,\"#fb9f3a\"],[0.8888888888888888,\"#fdca26\"],[1.0,\"#f0f921\"]]}],\"surface\":[{\"type\":\"surface\",\"colorbar\":{\"outlinewidth\":0,\"ticks\":\"\"},\"colorscale\":[[0.0,\"#0d0887\"],[0.1111111111111111,\"#46039f\"],[0.2222222222222222,\"#7201a8\"],[0.3333333333333333,\"#9c179e\"],[0.4444444444444444,\"#bd3786\"],[0.5555555555555556,\"#d8576b\"],[0.6666666666666666,\"#ed7953\"],[0.7777777777777778,\"#fb9f3a\"],[0.8888888888888888,\"#fdca26\"],[1.0,\"#f0f921\"]]}],\"mesh3d\":[{\"type\":\"mesh3d\",\"colorbar\":{\"outlinewidth\":0,\"ticks\":\"\"}}],\"scatter\":[{\"fillpattern\":{\"fillmode\":\"overlay\",\"size\":10,\"solidity\":0.2},\"type\":\"scatter\"}],\"parcoords\":[{\"type\":\"parcoords\",\"line\":{\"colorbar\":{\"outlinewidth\":0,\"ticks\":\"\"}}}],\"scatterpolargl\":[{\"type\":\"scatterpolargl\",\"marker\":{\"colorbar\":{\"outlinewidth\":0,\"ticks\":\"\"}}}],\"bar\":[{\"error_x\":{\"color\":\"#2a3f5f\"},\"error_y\":{\"color\":\"#2a3f5f\"},\"marker\":{\"line\":{\"color\":\"#E5ECF6\",\"width\":0.5},\"pattern\":{\"fillmode\":\"overlay\",\"size\":10,\"solidity\":0.2}},\"type\":\"bar\"}],\"scattergeo\":[{\"type\":\"scattergeo\",\"marker\":{\"colorbar\":{\"outlinewidth\":0,\"ticks\":\"\"}}}],\"scatterpolar\":[{\"type\":\"scatterpolar\",\"marker\":{\"colorbar\":{\"outlinewidth\":0,\"ticks\":\"\"}}}],\"histogram\":[{\"marker\":{\"pattern\":{\"fillmode\":\"overlay\",\"size\":10,\"solidity\":0.2}},\"type\":\"histogram\"}],\"scattergl\":[{\"type\":\"scattergl\",\"marker\":{\"colorbar\":{\"outlinewidth\":0,\"ticks\":\"\"}}}],\"scatter3d\":[{\"type\":\"scatter3d\",\"line\":{\"colorbar\":{\"outlinewidth\":0,\"ticks\":\"\"}},\"marker\":{\"colorbar\":{\"outlinewidth\":0,\"ticks\":\"\"}}}],\"scattermapbox\":[{\"type\":\"scattermapbox\",\"marker\":{\"colorbar\":{\"outlinewidth\":0,\"ticks\":\"\"}}}],\"scatterternary\":[{\"type\":\"scatterternary\",\"marker\":{\"colorbar\":{\"outlinewidth\":0,\"ticks\":\"\"}}}],\"scattercarpet\":[{\"type\":\"scattercarpet\",\"marker\":{\"colorbar\":{\"outlinewidth\":0,\"ticks\":\"\"}}}],\"carpet\":[{\"aaxis\":{\"endlinecolor\":\"#2a3f5f\",\"gridcolor\":\"white\",\"linecolor\":\"white\",\"minorgridcolor\":\"white\",\"startlinecolor\":\"#2a3f5f\"},\"baxis\":{\"endlinecolor\":\"#2a3f5f\",\"gridcolor\":\"white\",\"linecolor\":\"white\",\"minorgridcolor\":\"white\",\"startlinecolor\":\"#2a3f5f\"},\"type\":\"carpet\"}],\"table\":[{\"cells\":{\"fill\":{\"color\":\"#EBF0F8\"},\"line\":{\"color\":\"white\"}},\"header\":{\"fill\":{\"color\":\"#C8D4E3\"},\"line\":{\"color\":\"white\"}},\"type\":\"table\"}],\"barpolar\":[{\"marker\":{\"line\":{\"color\":\"#E5ECF6\",\"width\":0.5},\"pattern\":{\"fillmode\":\"overlay\",\"size\":10,\"solidity\":0.2}},\"type\":\"barpolar\"}],\"pie\":[{\"automargin\":true,\"type\":\"pie\"}]},\"layout\":{\"autotypenumbers\":\"strict\",\"colorway\":[\"#636efa\",\"#EF553B\",\"#00cc96\",\"#ab63fa\",\"#FFA15A\",\"#19d3f3\",\"#FF6692\",\"#B6E880\",\"#FF97FF\",\"#FECB52\"],\"font\":{\"color\":\"#2a3f5f\"},\"hovermode\":\"closest\",\"hoverlabel\":{\"align\":\"left\"},\"paper_bgcolor\":\"white\",\"plot_bgcolor\":\"#E5ECF6\",\"polar\":{\"bgcolor\":\"#E5ECF6\",\"angularaxis\":{\"gridcolor\":\"white\",\"linecolor\":\"white\",\"ticks\":\"\"},\"radialaxis\":{\"gridcolor\":\"white\",\"linecolor\":\"white\",\"ticks\":\"\"}},\"ternary\":{\"bgcolor\":\"#E5ECF6\",\"aaxis\":{\"gridcolor\":\"white\",\"linecolor\":\"white\",\"ticks\":\"\"},\"baxis\":{\"gridcolor\":\"white\",\"linecolor\":\"white\",\"ticks\":\"\"},\"caxis\":{\"gridcolor\":\"white\",\"linecolor\":\"white\",\"ticks\":\"\"}},\"coloraxis\":{\"colorbar\":{\"outlinewidth\":0,\"ticks\":\"\"}},\"colorscale\":{\"sequential\":[[0.0,\"#0d0887\"],[0.1111111111111111,\"#46039f\"],[0.2222222222222222,\"#7201a8\"],[0.3333333333333333,\"#9c179e\"],[0.4444444444444444,\"#bd3786\"],[0.5555555555555556,\"#d8576b\"],[0.6666666666666666,\"#ed7953\"],[0.7777777777777778,\"#fb9f3a\"],[0.8888888888888888,\"#fdca26\"],[1.0,\"#f0f921\"]],\"sequentialminus\":[[0.0,\"#0d0887\"],[0.1111111111111111,\"#46039f\"],[0.2222222222222222,\"#7201a8\"],[0.3333333333333333,\"#9c179e\"],[0.4444444444444444,\"#bd3786\"],[0.5555555555555556,\"#d8576b\"],[0.6666666666666666,\"#ed7953\"],[0.7777777777777778,\"#fb9f3a\"],[0.8888888888888888,\"#fdca26\"],[1.0,\"#f0f921\"]],\"diverging\":[[0,\"#8e0152\"],[0.1,\"#c51b7d\"],[0.2,\"#de77ae\"],[0.3,\"#f1b6da\"],[0.4,\"#fde0ef\"],[0.5,\"#f7f7f7\"],[0.6,\"#e6f5d0\"],[0.7,\"#b8e186\"],[0.8,\"#7fbc41\"],[0.9,\"#4d9221\"],[1,\"#276419\"]]},\"xaxis\":{\"gridcolor\":\"white\",\"linecolor\":\"white\",\"ticks\":\"\",\"title\":{\"standoff\":15},\"zerolinecolor\":\"white\",\"automargin\":true,\"zerolinewidth\":2},\"yaxis\":{\"gridcolor\":\"white\",\"linecolor\":\"white\",\"ticks\":\"\",\"title\":{\"standoff\":15},\"zerolinecolor\":\"white\",\"automargin\":true,\"zerolinewidth\":2},\"scene\":{\"xaxis\":{\"backgroundcolor\":\"#E5ECF6\",\"gridcolor\":\"white\",\"linecolor\":\"white\",\"showbackground\":true,\"ticks\":\"\",\"zerolinecolor\":\"white\",\"gridwidth\":2},\"yaxis\":{\"backgroundcolor\":\"#E5ECF6\",\"gridcolor\":\"white\",\"linecolor\":\"white\",\"showbackground\":true,\"ticks\":\"\",\"zerolinecolor\":\"white\",\"gridwidth\":2},\"zaxis\":{\"backgroundcolor\":\"#E5ECF6\",\"gridcolor\":\"white\",\"linecolor\":\"white\",\"showbackground\":true,\"ticks\":\"\",\"zerolinecolor\":\"white\",\"gridwidth\":2}},\"shapedefaults\":{\"line\":{\"color\":\"#2a3f5f\"}},\"annotationdefaults\":{\"arrowcolor\":\"#2a3f5f\",\"arrowhead\":0,\"arrowwidth\":1},\"geo\":{\"bgcolor\":\"white\",\"landcolor\":\"#E5ECF6\",\"subunitcolor\":\"white\",\"showland\":true,\"showlakes\":true,\"lakecolor\":\"white\"},\"title\":{\"x\":0.05},\"mapbox\":{\"style\":\"light\"}}},\"xaxis\":{\"anchor\":\"y\",\"domain\":[0.0,1.0],\"title\":{\"text\":\"Document in chronological order\"}},\"yaxis\":{\"anchor\":\"x\",\"domain\":[0.0,1.0],\"title\":{\"text\":\"Relative value\"}},\"legend\":{\"tracegroupgap\":0},\"margin\":{\"t\":60},\"barmode\":\"relative\"},                        {\"responsive\": true}                    ).then(function(){\n",
       "                            \n",
       "var gd = document.getElementById('16e7e160-88cf-48c1-b70d-b47324b19f2a');\n",
       "var x = new MutationObserver(function (mutations, observer) {{\n",
       "        var display = window.getComputedStyle(gd).display;\n",
       "        if (!display || display === 'none') {{\n",
       "            console.log([gd, 'removed!']);\n",
       "            Plotly.purge(gd);\n",
       "            observer.disconnect();\n",
       "        }}\n",
       "}});\n",
       "\n",
       "// Listen for the removal of the full notebook cells\n",
       "var notebookContainer = gd.closest('#notebook-container');\n",
       "if (notebookContainer) {{\n",
       "    x.observe(notebookContainer, {childList: true});\n",
       "}}\n",
       "\n",
       "// Listen for the clearing of the current output cell\n",
       "var outputEl = gd.closest('.output');\n",
       "if (outputEl) {{\n",
       "    x.observe(outputEl, {childList: true});\n",
       "}}\n",
       "\n",
       "                        })                };                });            </script>        </div>"
      ]
     },
     "metadata": {},
     "output_type": "display_data"
    }
   ],
   "source": [
    "x_var = new_df.index + 1\n",
    "y_var = 'relative value'\n",
    "\n",
    "\n",
    "fig = px.bar(new_df.sort_values(by=y_var, ascending=False), \n",
    "            x = x_var, \n",
    "            y = y_var,\n",
    "            hover_data=['author','title', 'year', 'relative value'])\n",
    "             \n",
    "# Update x-axis label\n",
    "fig.update_xaxes(title_text='Document in chronological order')\n",
    "\n",
    "# Update y-axis label\n",
    "fig.update_yaxes(title_text='Relative value') \n",
    "print ('\\nThe presens of sentences with lighting technologies and sensational words.\\n'\\\n",
    "             'We have the relative frequency of those sentences compared to all sentences in each novel.')\n",
    "fig.show()"
   ]
  },
  {
   "cell_type": "code",
   "execution_count": 51,
   "id": "b079a201",
   "metadata": {},
   "outputs": [
    {
     "data": {
      "text/plain": [
       "3695987"
      ]
     },
     "execution_count": 51,
     "metadata": {},
     "output_type": "execute_result"
    }
   ],
   "source": [
    "import plotly.io as io\n",
    "\n",
    "html_snippet_start = '<!DOCTYPE html> <html> <head> <title>Title</title> </head> <body>' \n",
    "html_snippet_end = ' </body></html> '\n",
    "\n",
    "html_as_string = io.to_html(fig, full_html=False)\n",
    "\n",
    "vis_in_html = html_snippet_start + html_as_string + html_snippet_end\n",
    "\n",
    "of = open(r'C:\\Users\\lakj\\Documents\\GitHub\\Lighting in French Literature\\visualisations\\emo_in_light_sent1.htm', 'w', encoding='utf-8-sig')\n",
    "of.write(vis_in_html)"
   ]
  },
  {
   "cell_type": "markdown",
   "id": "f3b2655a",
   "metadata": {},
   "source": [
    "# Keyword in context - or find a text snippet based on keywords and a range\n",
    "\n",
    "We want to find a word for example 'lumière' as well as words that are related to the word, and we have to have some context because we are actually interested in pointing down the text and seeing exactly how lumière is used.\n",
    "\n",
    "For this we need to use \\w. because it gives us more word characters and {30} checks that we get 30 word characters before we hit the letters lumière. \\b in front of lumière searches so that we only find words that begin with lumière and not words where lumière is part of the word, e.g. looking. After lumière, \\w.{30} searches for another 30 word characters.\n",
    "\n",
    "The pipe , | , means 'or' and alow us to get more than one word in the same search.\n",
    "\n",
    "Below I choose to look for contexts in texts of the author Balzac."
   ]
  },
  {
   "cell_type": "code",
   "execution_count": 21,
   "id": "25c88a42",
   "metadata": {},
   "outputs": [
    {
     "data": {
      "text/plain": [
       "['a leur des aladins qui se laissent emprunter leur lampe ces admirables conseillers ont l’esprit',\n",
       " 'carafe pleine d’eau et un verre et de l’autre une lampe le juge sonna l’huissier vint après que',\n",
       " 'illotait dans les bas-reliefs en donnant tout son lustre à ce chef-d’œuvre des artisans du seizi',\n",
       " 'rdonnance de napoléon en allumant son cigare à la lampe du portier quand joseph expliqua la pos',\n",
       " 'es dorées étaient jaspées de vert-de-gris un joli lustre moitié cristal moitié en fleurs de porc',\n",
       " 'e ménage elle frotta les meubles leur rendit leur lustre et tint tout au logis dans une propreté',\n",
       " 'le madame hulot dit-il et il montrait une vieille lampe un lustre dédoré les cordes du tapis en',\n",
       " 'tatuettes de plâtre jouant le bronze florentin le lustre mal ciselé simplement mis en couleur à ',\n",
       " 'n elle trouva travaillant à la lueur d’une petite lampe dont la clarté s’augmentait en passant ',\n",
       " ' aidé sa femme à nettoyer les meubles à rendre du lustre aux plus petits objets en savonnant en ',\n",
       " 'dustrie les flambeaux les bras le garde-cendre le lustre la pendule appartenaient au genre rocai',\n",
       " 'sans flambeaux en suivant mariette qui portait la lampe de la salle à manger dans la chambre à ',\n",
       " 'bricant qui l’exploite coûte cinq cents francs un lustre authentique de boule monte en vente pub',\n",
       " 'lique à trois mille francs le même lustre surmoulé pourra être fabriqué pour mill',\n",
       " 'vec sa glace bien encadrée en style pompadour une lampe au plafond donnait un demi-jour accru p',\n",
       " 'sa réputation reçut dans le quartier du marais un lustre extraordinaire de cette guérison qui te']"
      ]
     },
     "execution_count": 21,
     "metadata": {},
     "output_type": "execute_result"
    }
   ],
   "source": [
    "text = ' '.join(df[df['author'] == 'Balzac']['clean_text'])\n",
    "import re\n",
    "context = re.findall(r'.{0,50}\\blampe.{0,40}|.{0,50}\\blustre.{0,40}', text)\n",
    "context"
   ]
  },
  {
   "cell_type": "code",
   "execution_count": null,
   "id": "2a8d2579",
   "metadata": {},
   "outputs": [],
   "source": []
  }
 ],
 "metadata": {
  "kernelspec": {
   "display_name": "Python 3 (ipykernel)",
   "language": "python",
   "name": "python3"
  },
  "language_info": {
   "codemirror_mode": {
    "name": "ipython",
    "version": 3
   },
   "file_extension": ".py",
   "mimetype": "text/x-python",
   "name": "python",
   "nbconvert_exporter": "python",
   "pygments_lexer": "ipython3",
   "version": "3.10.9"
  }
 },
 "nbformat": 4,
 "nbformat_minor": 5
}
