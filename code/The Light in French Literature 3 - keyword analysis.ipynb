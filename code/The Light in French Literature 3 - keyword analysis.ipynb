{
 "cells": [
  {
   "cell_type": "markdown",
   "id": "36832a20",
   "metadata": {},
   "source": [
    "# The Light in French Literature 2 - keyword analysis\n",
    "## - The use of lighting technologies and emotions\n",
    "Which writers make the most and least use of lighting technologies when writing about emotions?\n",
    "\n",
    "- how likely is it that a lighting technology is mentioned in a paragraph containing “emotion vocabulary”?\n",
    "- how many lighting technology paragraphs are there?\n",
    "- how many of them contain emotion vocab?\n",
    "\n",
    "    1. split text in paragraphs\n",
    "    2. count paragraphs\n",
    "    3. count paragraphs with lighting technology\n",
    "    4. count paragraphs with lighting technology containing “emotion vocabulary”\n",
    "    5. caculate ratio of total paragraphs and paragraphs with lighting technology containing “emotion vocabulary”\n",
    "    6. caculate ratio of paragraphs with lighting technology and paragraphs with lighting technology containing “emotion vocabulary”\n",
    "    \n",
    "\n"
   ]
  },
  {
   "cell_type": "code",
   "execution_count": 100,
   "id": "2e911468",
   "metadata": {},
   "outputs": [],
   "source": [
    "import re\n",
    "import os\n",
    "import pandas as pd\n",
    "from pathlib import Path\n",
    "from tqdm.notebook import tqdm\n",
    "tqdm.pandas()"
   ]
  },
  {
   "cell_type": "markdown",
   "id": "273d73f3",
   "metadata": {},
   "source": [
    "# Prepare data\n",
    "- Data is stored in a dataframe\n",
    "- in a function we detect presens of keywords in paragraphs. To do this we split the text into paragraphs and check then one by for a keyword. If a keyword is detected in a paragraph we do not continue to search for other keywords in the same paragraph. We just register, that a keyword is found in a paragraph and moves on to the next paragraph."
   ]
  },
  {
   "cell_type": "code",
   "execution_count": 101,
   "id": "c1224ae4",
   "metadata": {},
   "outputs": [
    {
     "name": "stdout",
     "output_type": "stream",
     "text": [
      "The file name is text_data230826.csv\n",
      "\n",
      "\n",
      "Count paragraphs:\n",
      "\n"
     ]
    },
    {
     "data": {
      "application/vnd.jupyter.widget-view+json": {
       "model_id": "70a54bb08c0e4872982537b4d748c844",
       "version_major": 2,
       "version_minor": 0
      },
      "text/plain": [
       "  0%|          | 0/101 [00:00<?, ?it/s]"
      ]
     },
     "metadata": {},
     "output_type": "display_data"
    },
    {
     "name": "stdout",
     "output_type": "stream",
     "text": [
      "\n",
      "\n",
      "Count paragraphs with tech keywords:\n",
      "\n"
     ]
    },
    {
     "data": {
      "application/vnd.jupyter.widget-view+json": {
       "model_id": "3e1a506c03fd4217a73a50cbea9c6d62",
       "version_major": 2,
       "version_minor": 0
      },
      "text/plain": [
       "  0%|          | 0/101 [00:00<?, ?it/s]"
      ]
     },
     "metadata": {},
     "output_type": "display_data"
    },
    {
     "name": "stdout",
     "output_type": "stream",
     "text": [
      "\n",
      "\n",
      "Count tech paragraphs that holds emotion keywords:\n",
      "\n"
     ]
    },
    {
     "data": {
      "application/vnd.jupyter.widget-view+json": {
       "model_id": "b5e974d1149f45c5bc777e9b1ab99ac4",
       "version_major": 2,
       "version_minor": 0
      },
      "text/plain": [
       "  0%|          | 0/101 [00:00<?, ?it/s]"
      ]
     },
     "metadata": {},
     "output_type": "display_data"
    }
   ],
   "source": [
    "input_dir = Path.cwd() / '../data/csv_files' # path of files to be found\n",
    "csv_files = os.listdir(input_dir)\n",
    "print (f'The file name is {csv_files[-1]}')\n",
    "df = pd.read_csv(input_dir / csv_files[-1], sep='|')\n",
    "\n",
    "\n",
    "\n",
    "# split text in paragraphs and count paragraphs\n",
    "def count_paragraphs(text):\n",
    "    paragraphs = text.split('.')\n",
    "    paragraphs = [p.strip() for p in paragraphs]\n",
    "    return len(paragraphs)\n",
    "\n",
    "print ('\\n\\nCount paragraphs:\\n')\n",
    "df['count_paragraphs'] = df['text'].progress_apply(lambda text : count_paragraphs(text))\n",
    "\n",
    "\n",
    "#### Read two lists of keywords - technology and emotion keyowrds ####\n",
    "\n",
    "# path to keyword lists directory \n",
    "input_dir = Path.cwd() / '../data/key_word_lists' \n",
    "\n",
    "\n",
    "# get the tech words\n",
    "key_word_file_name = 'technology_list.txt'\n",
    "with open(input_dir / key_word_file_name, 'r', encoding='utf-8-sig') as file:\n",
    "    tech_key_words = file.read().split('\\n')\n",
    "    \n",
    "# get the emo words    \n",
    "key_word_file_name = 'emotion_list.txt'\n",
    "with open(input_dir / key_word_file_name, 'r', encoding='utf-8-sig') as file:\n",
    "    emo_key_words = file.read().split('\\n')\n",
    "\n",
    "\n",
    "\n",
    "    \n",
    "### Build function to do the teck key word counting\n",
    "def count_kw(text, key_word_list):\n",
    "    text = text.lower()\n",
    "    paragraphs = text.split('.')\n",
    "    list_of_paragraphs = [p.strip() for p in paragraphs]\n",
    "    \n",
    "    count = 0\n",
    "    # take paragraphs one by one\n",
    "    for paragraph in list_of_paragraphs:\n",
    "        # take every word in the list of keywords\n",
    "        for key_word in key_word_list:\n",
    "            # if a keyword is in the paragraph return boolean\n",
    "            if re.search(key_word, paragraph):\n",
    "                # then add one to the counter \n",
    "                count = count + 1\n",
    "                # and then break out and return to the beginning of the loop \n",
    "                break\n",
    "    return count\n",
    "\n",
    "def count_kw_in_kw_p(text, key_word_list1, key_word_list2):\n",
    "    text = text.lower()\n",
    "    paragraphs = text.split('.')\n",
    "    list_of_paragraphs = [p.strip() for p in paragraphs]\n",
    "    \n",
    "    count = 0\n",
    "    # take paragraphs one by one\n",
    "    for paragraph in list_of_paragraphs:\n",
    "        \n",
    "        # take every word in the list of tech words\n",
    "        for key_word in key_word_list1:\n",
    "            # if a word from the list is in the paragraph\n",
    "            if re.search(key_word, paragraph):\n",
    "                for key_word in key_word_list2:\n",
    "                    if key_word in paragraph:\n",
    "                        # then add one to the counter \n",
    "                        count = count + 1\n",
    "                        # and then break out and return to the beginning of the loop \n",
    "                        break\n",
    "    return count\n",
    "\n",
    "\n",
    "\n",
    "######### Count keyword in paragraphs ##### \n",
    "\n",
    "print ('\\n\\nCount paragraphs with tech keywords:\\n')    \n",
    "df['p_lightning_kw'] = df['text'].progress_apply(lambda text : count_kw(text, tech_key_words))\n",
    "\n",
    "######### Count paragraphs with lighting technology containing “emotion vocabulary”\n",
    "print ('\\n\\nCount tech paragraphs that holds emotion keywords:\\n') \n",
    "df['p_lightning_emotion_kw'] = df['text'].progress_apply(lambda text : count_kw_in_kw_p(text, tech_key_words, emo_key_words))\n"
   ]
  },
  {
   "cell_type": "code",
   "execution_count": 102,
   "id": "2167ca76",
   "metadata": {},
   "outputs": [
    {
     "data": {
      "text/html": [
       "<div>\n",
       "<style scoped>\n",
       "    .dataframe tbody tr th:only-of-type {\n",
       "        vertical-align: middle;\n",
       "    }\n",
       "\n",
       "    .dataframe tbody tr th {\n",
       "        vertical-align: top;\n",
       "    }\n",
       "\n",
       "    .dataframe thead th {\n",
       "        text-align: right;\n",
       "    }\n",
       "</style>\n",
       "<table border=\"1\" class=\"dataframe\">\n",
       "  <thead>\n",
       "    <tr style=\"text-align: right;\">\n",
       "      <th></th>\n",
       "      <th>year</th>\n",
       "      <th>author</th>\n",
       "      <th>title</th>\n",
       "      <th>text</th>\n",
       "      <th>clean_text</th>\n",
       "      <th>count_paragraphs</th>\n",
       "      <th>p_lightning_kw</th>\n",
       "      <th>p_lightning_emotion_kw</th>\n",
       "    </tr>\n",
       "  </thead>\n",
       "  <tbody>\n",
       "    <tr>\n",
       "      <th>0</th>\n",
       "      <td>1838</td>\n",
       "      <td>Balzac</td>\n",
       "      <td>Splendeurs et misères des courtisanes 1 Esther...</td>\n",
       "      <td>SPLENDEURS ET MISÈRESDES COURTISANES   Laissez...</td>\n",
       "      <td>splendeurs et misèresdes courtisanes laissez-m...</td>\n",
       "      <td>2002</td>\n",
       "      <td>45</td>\n",
       "      <td>18</td>\n",
       "    </tr>\n",
       "    <tr>\n",
       "      <th>1</th>\n",
       "      <td>1838</td>\n",
       "      <td>Balzac</td>\n",
       "      <td>Splendeurs et misères des courtisanes 2 A comb...</td>\n",
       "      <td>Depuis huit jours, Nucingen allait marchander ...</td>\n",
       "      <td>depuis huit jours nucingen allait marchander l...</td>\n",
       "      <td>1870</td>\n",
       "      <td>18</td>\n",
       "      <td>1</td>\n",
       "    </tr>\n",
       "    <tr>\n",
       "      <th>2</th>\n",
       "      <td>1838</td>\n",
       "      <td>Balzac</td>\n",
       "      <td>Splendeurs et misères des courtisanes 3 Où mèn...</td>\n",
       "      <td>Le lendemain, à six heures, deux voitures mené...</td>\n",
       "      <td>le lendemain à six heures deux voitures menées...</td>\n",
       "      <td>1304</td>\n",
       "      <td>24</td>\n",
       "      <td>4</td>\n",
       "    </tr>\n",
       "    <tr>\n",
       "      <th>3</th>\n",
       "      <td>1838</td>\n",
       "      <td>Balzac</td>\n",
       "      <td>Splendeurs et misères des courtisanes 4 La der...</td>\n",
       "      <td>— Qu’y a-t-il, Madeleine? dit madame Camusot e...</td>\n",
       "      <td>qu’y a-t-il madeleine dit madame camusot en vo...</td>\n",
       "      <td>1853</td>\n",
       "      <td>10</td>\n",
       "      <td>3</td>\n",
       "    </tr>\n",
       "    <tr>\n",
       "      <th>4</th>\n",
       "      <td>1842</td>\n",
       "      <td>Balzac</td>\n",
       "      <td>La Rabouilleuse</td>\n",
       "      <td>LES CÉLIBATAIRES. Voici, mon cher Nodier, un o...</td>\n",
       "      <td>les célibataires voici mon cher nodier un ouvr...</td>\n",
       "      <td>4017</td>\n",
       "      <td>45</td>\n",
       "      <td>7</td>\n",
       "    </tr>\n",
       "    <tr>\n",
       "      <th>...</th>\n",
       "      <td>...</td>\n",
       "      <td>...</td>\n",
       "      <td>...</td>\n",
       "      <td>...</td>\n",
       "      <td>...</td>\n",
       "      <td>...</td>\n",
       "      <td>...</td>\n",
       "      <td>...</td>\n",
       "    </tr>\n",
       "    <tr>\n",
       "      <th>96</th>\n",
       "      <td>1910</td>\n",
       "      <td>Colette</td>\n",
       "      <td>La Vagabonde</td>\n",
       "      <td>LA VAGABONDE \\n\\n\\n\\nParu dans Le Livre de Poc...</td>\n",
       "      <td>la vagabonde paru dans le livre de poche l'ing...</td>\n",
       "      <td>6407</td>\n",
       "      <td>64</td>\n",
       "      <td>18</td>\n",
       "    </tr>\n",
       "    <tr>\n",
       "      <th>97</th>\n",
       "      <td>1910</td>\n",
       "      <td>DelarueMardrus</td>\n",
       "      <td>Comme tout le monde</td>\n",
       "      <td>Première partie     C’est un wagon de deuxième...</td>\n",
       "      <td>première partie c’est un wagon de deuxième cla...</td>\n",
       "      <td>3007</td>\n",
       "      <td>54</td>\n",
       "      <td>14</td>\n",
       "    </tr>\n",
       "    <tr>\n",
       "      <th>98</th>\n",
       "      <td>1910</td>\n",
       "      <td>Maupassant</td>\n",
       "      <td>Les Dimanches d'un bourgeois à Paris</td>\n",
       "      <td>Monsieur Patissot, né à Paris, après avoir fai...</td>\n",
       "      <td>monsieur patissot né à paris après avoir fait ...</td>\n",
       "      <td>1057</td>\n",
       "      <td>21</td>\n",
       "      <td>5</td>\n",
       "    </tr>\n",
       "    <tr>\n",
       "      <th>99</th>\n",
       "      <td>1911</td>\n",
       "      <td>Daudet</td>\n",
       "      <td>Rose et Ninette</td>\n",
       "      <td>au poëte et au philosophe, je dédie cette page...</td>\n",
       "      <td>au poëte et au philosophe je dédie cette page ...</td>\n",
       "      <td>905</td>\n",
       "      <td>25</td>\n",
       "      <td>7</td>\n",
       "    </tr>\n",
       "    <tr>\n",
       "      <th>100</th>\n",
       "      <td>1913</td>\n",
       "      <td>Proust</td>\n",
       "      <td>Du côté de chez Swann</td>\n",
       "      <td>À MONSIEUR GASTON CALMETTE        PREMIÈRE PAR...</td>\n",
       "      <td>à monsieur gaston calmette première partiecomb...</td>\n",
       "      <td>4034</td>\n",
       "      <td>105</td>\n",
       "      <td>63</td>\n",
       "    </tr>\n",
       "  </tbody>\n",
       "</table>\n",
       "<p>101 rows × 8 columns</p>\n",
       "</div>"
      ],
      "text/plain": [
       "     year          author                                              title  \\\n",
       "0    1838          Balzac  Splendeurs et misères des courtisanes 1 Esther...   \n",
       "1    1838          Balzac  Splendeurs et misères des courtisanes 2 A comb...   \n",
       "2    1838          Balzac  Splendeurs et misères des courtisanes 3 Où mèn...   \n",
       "3    1838          Balzac  Splendeurs et misères des courtisanes 4 La der...   \n",
       "4    1842          Balzac                                    La Rabouilleuse   \n",
       "..    ...             ...                                                ...   \n",
       "96   1910         Colette                                       La Vagabonde   \n",
       "97   1910  DelarueMardrus                                Comme tout le monde   \n",
       "98   1910      Maupassant               Les Dimanches d'un bourgeois à Paris   \n",
       "99   1911          Daudet                                    Rose et Ninette   \n",
       "100  1913          Proust                              Du côté de chez Swann   \n",
       "\n",
       "                                                  text  \\\n",
       "0    SPLENDEURS ET MISÈRESDES COURTISANES   Laissez...   \n",
       "1    Depuis huit jours, Nucingen allait marchander ...   \n",
       "2    Le lendemain, à six heures, deux voitures mené...   \n",
       "3    — Qu’y a-t-il, Madeleine? dit madame Camusot e...   \n",
       "4    LES CÉLIBATAIRES. Voici, mon cher Nodier, un o...   \n",
       "..                                                 ...   \n",
       "96   LA VAGABONDE \\n\\n\\n\\nParu dans Le Livre de Poc...   \n",
       "97   Première partie     C’est un wagon de deuxième...   \n",
       "98   Monsieur Patissot, né à Paris, après avoir fai...   \n",
       "99   au poëte et au philosophe, je dédie cette page...   \n",
       "100  À MONSIEUR GASTON CALMETTE        PREMIÈRE PAR...   \n",
       "\n",
       "                                            clean_text  count_paragraphs  \\\n",
       "0    splendeurs et misèresdes courtisanes laissez-m...              2002   \n",
       "1    depuis huit jours nucingen allait marchander l...              1870   \n",
       "2    le lendemain à six heures deux voitures menées...              1304   \n",
       "3    qu’y a-t-il madeleine dit madame camusot en vo...              1853   \n",
       "4    les célibataires voici mon cher nodier un ouvr...              4017   \n",
       "..                                                 ...               ...   \n",
       "96   la vagabonde paru dans le livre de poche l'ing...              6407   \n",
       "97   première partie c’est un wagon de deuxième cla...              3007   \n",
       "98   monsieur patissot né à paris après avoir fait ...              1057   \n",
       "99   au poëte et au philosophe je dédie cette page ...               905   \n",
       "100  à monsieur gaston calmette première partiecomb...              4034   \n",
       "\n",
       "     p_lightning_kw  p_lightning_emotion_kw  \n",
       "0                45                      18  \n",
       "1                18                       1  \n",
       "2                24                       4  \n",
       "3                10                       3  \n",
       "4                45                       7  \n",
       "..              ...                     ...  \n",
       "96               64                      18  \n",
       "97               54                      14  \n",
       "98               21                       5  \n",
       "99               25                       7  \n",
       "100             105                      63  \n",
       "\n",
       "[101 rows x 8 columns]"
      ]
     },
     "execution_count": 102,
     "metadata": {},
     "output_type": "execute_result"
    }
   ],
   "source": [
    "df"
   ]
  },
  {
   "cell_type": "code",
   "execution_count": 68,
   "id": "34775d97",
   "metadata": {},
   "outputs": [
    {
     "data": {
      "text/html": [
       "<div>\n",
       "<style scoped>\n",
       "    .dataframe tbody tr th:only-of-type {\n",
       "        vertical-align: middle;\n",
       "    }\n",
       "\n",
       "    .dataframe tbody tr th {\n",
       "        vertical-align: top;\n",
       "    }\n",
       "\n",
       "    .dataframe thead th {\n",
       "        text-align: right;\n",
       "    }\n",
       "</style>\n",
       "<table border=\"1\" class=\"dataframe\">\n",
       "  <thead>\n",
       "    <tr style=\"text-align: right;\">\n",
       "      <th></th>\n",
       "      <th>year</th>\n",
       "      <th>author</th>\n",
       "      <th>title</th>\n",
       "      <th>text</th>\n",
       "      <th>p_lightning_kw</th>\n",
       "      <th>p_lightning_emotion_kw</th>\n",
       "      <th>lightning technology paragraphs share of all paragraphs</th>\n",
       "      <th>emo and lightning technology paragraph share of all paragraphs</th>\n",
       "      <th>emo and lightning technology paragraph share of lightning technology paragraph</th>\n",
       "    </tr>\n",
       "  </thead>\n",
       "  <tbody>\n",
       "    <tr>\n",
       "      <th>0</th>\n",
       "      <td>1838</td>\n",
       "      <td>Balzac</td>\n",
       "      <td>Splendeurs et misères des courtisanes 1 Esther...</td>\n",
       "      <td>SPLENDEURS ET MISÈRESDES COURTISANES   Laissez...</td>\n",
       "      <td>45</td>\n",
       "      <td>18</td>\n",
       "      <td>0.022478</td>\n",
       "      <td>0.008991</td>\n",
       "      <td>0.400000</td>\n",
       "    </tr>\n",
       "    <tr>\n",
       "      <th>1</th>\n",
       "      <td>1838</td>\n",
       "      <td>Balzac</td>\n",
       "      <td>Splendeurs et misères des courtisanes 2 A comb...</td>\n",
       "      <td>Depuis huit jours, Nucingen allait marchander ...</td>\n",
       "      <td>18</td>\n",
       "      <td>1</td>\n",
       "      <td>0.009626</td>\n",
       "      <td>0.000535</td>\n",
       "      <td>0.055556</td>\n",
       "    </tr>\n",
       "    <tr>\n",
       "      <th>2</th>\n",
       "      <td>1838</td>\n",
       "      <td>Balzac</td>\n",
       "      <td>Splendeurs et misères des courtisanes 3 Où mèn...</td>\n",
       "      <td>Le lendemain, à six heures, deux voitures mené...</td>\n",
       "      <td>24</td>\n",
       "      <td>4</td>\n",
       "      <td>0.018405</td>\n",
       "      <td>0.003067</td>\n",
       "      <td>0.166667</td>\n",
       "    </tr>\n",
       "    <tr>\n",
       "      <th>3</th>\n",
       "      <td>1838</td>\n",
       "      <td>Balzac</td>\n",
       "      <td>Splendeurs et misères des courtisanes 4 La der...</td>\n",
       "      <td>— Qu’y a-t-il, Madeleine? dit madame Camusot e...</td>\n",
       "      <td>10</td>\n",
       "      <td>3</td>\n",
       "      <td>0.005397</td>\n",
       "      <td>0.001619</td>\n",
       "      <td>0.300000</td>\n",
       "    </tr>\n",
       "    <tr>\n",
       "      <th>4</th>\n",
       "      <td>1842</td>\n",
       "      <td>Balzac</td>\n",
       "      <td>La Rabouilleuse</td>\n",
       "      <td>LES CÉLIBATAIRES. Voici, mon cher Nodier, un o...</td>\n",
       "      <td>45</td>\n",
       "      <td>7</td>\n",
       "      <td>0.011202</td>\n",
       "      <td>0.001743</td>\n",
       "      <td>0.155556</td>\n",
       "    </tr>\n",
       "    <tr>\n",
       "      <th>...</th>\n",
       "      <td>...</td>\n",
       "      <td>...</td>\n",
       "      <td>...</td>\n",
       "      <td>...</td>\n",
       "      <td>...</td>\n",
       "      <td>...</td>\n",
       "      <td>...</td>\n",
       "      <td>...</td>\n",
       "      <td>...</td>\n",
       "    </tr>\n",
       "    <tr>\n",
       "      <th>96</th>\n",
       "      <td>1910</td>\n",
       "      <td>Colette</td>\n",
       "      <td>La Vagabonde</td>\n",
       "      <td>LA VAGABONDE \\n\\n\\n\\nParu dans Le Livre de Poc...</td>\n",
       "      <td>64</td>\n",
       "      <td>18</td>\n",
       "      <td>0.009989</td>\n",
       "      <td>0.002809</td>\n",
       "      <td>0.281250</td>\n",
       "    </tr>\n",
       "    <tr>\n",
       "      <th>97</th>\n",
       "      <td>1910</td>\n",
       "      <td>DelarueMardrus</td>\n",
       "      <td>Comme tout le monde</td>\n",
       "      <td>Première partie     C’est un wagon de deuxième...</td>\n",
       "      <td>54</td>\n",
       "      <td>14</td>\n",
       "      <td>0.017958</td>\n",
       "      <td>0.004656</td>\n",
       "      <td>0.259259</td>\n",
       "    </tr>\n",
       "    <tr>\n",
       "      <th>98</th>\n",
       "      <td>1910</td>\n",
       "      <td>Maupassant</td>\n",
       "      <td>Les Dimanches d'un bourgeois à Paris</td>\n",
       "      <td>Monsieur Patissot, né à Paris, après avoir fai...</td>\n",
       "      <td>21</td>\n",
       "      <td>5</td>\n",
       "      <td>0.019868</td>\n",
       "      <td>0.004730</td>\n",
       "      <td>0.238095</td>\n",
       "    </tr>\n",
       "    <tr>\n",
       "      <th>99</th>\n",
       "      <td>1911</td>\n",
       "      <td>Daudet</td>\n",
       "      <td>Rose et Ninette</td>\n",
       "      <td>au poëte et au philosophe, je dédie cette page...</td>\n",
       "      <td>25</td>\n",
       "      <td>7</td>\n",
       "      <td>0.027624</td>\n",
       "      <td>0.007735</td>\n",
       "      <td>0.280000</td>\n",
       "    </tr>\n",
       "    <tr>\n",
       "      <th>100</th>\n",
       "      <td>1913</td>\n",
       "      <td>Proust</td>\n",
       "      <td>Du côté de chez Swann</td>\n",
       "      <td>À MONSIEUR GASTON CALMETTE        PREMIÈRE PAR...</td>\n",
       "      <td>105</td>\n",
       "      <td>63</td>\n",
       "      <td>0.026029</td>\n",
       "      <td>0.015617</td>\n",
       "      <td>0.600000</td>\n",
       "    </tr>\n",
       "  </tbody>\n",
       "</table>\n",
       "<p>101 rows × 9 columns</p>\n",
       "</div>"
      ],
      "text/plain": [
       "     year          author                                              title  \\\n",
       "0    1838          Balzac  Splendeurs et misères des courtisanes 1 Esther...   \n",
       "1    1838          Balzac  Splendeurs et misères des courtisanes 2 A comb...   \n",
       "2    1838          Balzac  Splendeurs et misères des courtisanes 3 Où mèn...   \n",
       "3    1838          Balzac  Splendeurs et misères des courtisanes 4 La der...   \n",
       "4    1842          Balzac                                    La Rabouilleuse   \n",
       "..    ...             ...                                                ...   \n",
       "96   1910         Colette                                       La Vagabonde   \n",
       "97   1910  DelarueMardrus                                Comme tout le monde   \n",
       "98   1910      Maupassant               Les Dimanches d'un bourgeois à Paris   \n",
       "99   1911          Daudet                                    Rose et Ninette   \n",
       "100  1913          Proust                              Du côté de chez Swann   \n",
       "\n",
       "                                                  text  p_lightning_kw  \\\n",
       "0    SPLENDEURS ET MISÈRESDES COURTISANES   Laissez...              45   \n",
       "1    Depuis huit jours, Nucingen allait marchander ...              18   \n",
       "2    Le lendemain, à six heures, deux voitures mené...              24   \n",
       "3    — Qu’y a-t-il, Madeleine? dit madame Camusot e...              10   \n",
       "4    LES CÉLIBATAIRES. Voici, mon cher Nodier, un o...              45   \n",
       "..                                                 ...             ...   \n",
       "96   LA VAGABONDE \\n\\n\\n\\nParu dans Le Livre de Poc...              64   \n",
       "97   Première partie     C’est un wagon de deuxième...              54   \n",
       "98   Monsieur Patissot, né à Paris, après avoir fai...              21   \n",
       "99   au poëte et au philosophe, je dédie cette page...              25   \n",
       "100  À MONSIEUR GASTON CALMETTE        PREMIÈRE PAR...             105   \n",
       "\n",
       "     p_lightning_emotion_kw  \\\n",
       "0                        18   \n",
       "1                         1   \n",
       "2                         4   \n",
       "3                         3   \n",
       "4                         7   \n",
       "..                      ...   \n",
       "96                       18   \n",
       "97                       14   \n",
       "98                        5   \n",
       "99                        7   \n",
       "100                      63   \n",
       "\n",
       "     lightning technology paragraphs share of all paragraphs  \\\n",
       "0                                             0.022478         \n",
       "1                                             0.009626         \n",
       "2                                             0.018405         \n",
       "3                                             0.005397         \n",
       "4                                             0.011202         \n",
       "..                                                 ...         \n",
       "96                                            0.009989         \n",
       "97                                            0.017958         \n",
       "98                                            0.019868         \n",
       "99                                            0.027624         \n",
       "100                                           0.026029         \n",
       "\n",
       "     emo and lightning technology paragraph share of all paragraphs  \\\n",
       "0                                             0.008991                \n",
       "1                                             0.000535                \n",
       "2                                             0.003067                \n",
       "3                                             0.001619                \n",
       "4                                             0.001743                \n",
       "..                                                 ...                \n",
       "96                                            0.002809                \n",
       "97                                            0.004656                \n",
       "98                                            0.004730                \n",
       "99                                            0.007735                \n",
       "100                                           0.015617                \n",
       "\n",
       "     emo and lightning technology paragraph share of lightning technology paragraph  \n",
       "0                                             0.400000                               \n",
       "1                                             0.055556                               \n",
       "2                                             0.166667                               \n",
       "3                                             0.300000                               \n",
       "4                                             0.155556                               \n",
       "..                                                 ...                               \n",
       "96                                            0.281250                               \n",
       "97                                            0.259259                               \n",
       "98                                            0.238095                               \n",
       "99                                            0.280000                               \n",
       "100                                           0.600000                               \n",
       "\n",
       "[101 rows x 9 columns]"
      ]
     },
     "execution_count": 68,
     "metadata": {},
     "output_type": "execute_result"
    }
   ],
   "source": [
    "# get relative data\n",
    "new_df = df.copy()\n",
    "new_df['lightning technology paragraphs share of all paragraphs'] = new_df['p_lightning_kw'] / new_df['count_paragraphs'] \n",
    "new_df['emo and lightning technology paragraph share of all paragraphs'] = new_df['p_lightning_emotion_kw'] / new_df['count_paragraphs'] \n",
    "new_df['emo and lightning technology paragraph share of lightning technology paragraph'] = new_df['p_lightning_emotion_kw'] / new_df['p_lightning_kw']\n",
    "\n",
    "new_df = new_df.iloc[:, [0, 1,2,3,6,7,8,9,10]]\n",
    "new_df"
   ]
  },
  {
   "cell_type": "code",
   "execution_count": 69,
   "id": "a04f0fa2",
   "metadata": {},
   "outputs": [],
   "source": [
    "import plotly.express as px"
   ]
  },
  {
   "cell_type": "code",
   "execution_count": 97,
   "id": "6f47d150",
   "metadata": {},
   "outputs": [
    {
     "data": {
      "application/vnd.plotly.v1+json": {
       "config": {
        "plotlyServerURL": "https://plot.ly"
       },
       "data": [
        {
         "alignmentgroup": "True",
         "customdata": [
          [
           "Baudelaire",
           "Les Fleurs du Mal",
           1855
          ],
          [
           "Nouailles",
           "Les Eblouissements",
           1907
          ],
          [
           "Nouailles",
           "Le Caeur innombrable",
           1901
          ],
          [
           "Rimbaud",
           "Poésies",
           1870
          ],
          [
           "Mallarmé",
           "Poésies",
           1899
          ],
          [
           "Nouailles",
           "L'Ombre des jours",
           1902
          ],
          [
           "Laforgue",
           "Les complaintes",
           1885
          ],
          [
           "Vivien",
           "Cendres et poussières",
           1902
          ],
          [
           "Prudhomme",
           "Poésies 1865_1866",
           1865
          ],
          [
           "Baudelaire",
           "Le spleen de Paris",
           1869
          ],
          [
           "Tinayre",
           "La Rebelle",
           1906
          ],
          [
           "Huysmans",
           "A rebours",
           1884
          ],
          [
           "Verlaine",
           "Oeuvres complètes vol 1",
           1902
          ],
          [
           "Colette",
           "La Retraite sentimentale",
           1907
          ],
          [
           "France",
           "Les Poèmes dorés",
           1873
          ],
          [
           "Proust",
           "Du côté de chez Swann",
           1913
          ],
          [
           "Vivien",
           "Flambeaux éteinte",
           1907
          ],
          [
           "Rimbaud",
           "Les Illuminations",
           1872
          ],
          [
           "Proust",
           "Les Plaisirs et les jours",
           1898
          ],
          [
           "Rachilde",
           "Monsieur Vénus",
           1884
          ],
          [
           "Flaubert",
           "Un caeur simple",
           1877
          ],
          [
           "Gautier",
           "Le Capitaine Fracasse",
           1863
          ],
          [
           "Tinayre",
           "La Maison du péché",
           1902
          ],
          [
           "Huysmans",
           "En route",
           1895
          ],
          [
           "Balzac",
           "Splendeurs et misères des courtisanes 1 Esther heureuse",
           1838
          ],
          [
           "Zola",
           "L'oeuvre",
           1886
          ],
          [
           "Huysmans",
           "La cathédrale",
           1898
          ],
          [
           "Daudet",
           "Rose et Ninette",
           1911
          ],
          [
           "Zola",
           "Travail",
           1901
          ],
          [
           "Verne",
           "Voyage au centre de la terre",
           1864
          ],
          [
           "Zola",
           "La Bête humaine",
           1870
          ],
          [
           "Zola",
           "La Curée",
           1871
          ],
          [
           "Flaubert",
           "La Légende de Saint Julien l'Hospitalier",
           1877
          ],
          [
           "Zola",
           "Nana",
           1879
          ],
          [
           "Maupassant",
           "La Maison Tellier",
           1881
          ],
          [
           "Bourget",
           "Le disciple",
           1889
          ],
          [
           "Dumas",
           "Le Compte de Monte Cristo",
           1844
          ],
          [
           "Maupassant",
           "Une vie",
           1883
          ],
          [
           "Vallés",
           "L'Insurgé",
           1908
          ],
          [
           "Daudet",
           "Les rois en exil",
           1879
          ],
          [
           "Vivien",
           "Une Femme m'apparut",
           1905
          ],
          [
           "Hugo",
           "Les Misérables",
           1862
          ],
          [
           "Flaubert",
           "L'éducation sentimentale",
           1869
          ],
          [
           "Maupassant",
           "Les Dimanches d'un bourgeois à Paris",
           1910
          ],
          [
           "Verne",
           "Vingt mille lieues sous les mers",
           1869
          ],
          [
           "DelarueMardrus",
           "Comme tout le monde",
           1910
          ],
          [
           "Sue",
           "Les Mystères de Paris",
           1842
          ],
          [
           "Maupassant",
           "La parure",
           1884
          ],
          [
           "Daudet",
           "Le Soutien de Famille",
           1885
          ],
          [
           "Zola",
           "La Faute de l'abbé Mouret",
           1866
          ],
          [
           "Zola",
           "Germinal",
           1885
          ],
          [
           "Zola",
           "L'Assommoir",
           1876
          ],
          [
           "Léo",
           "Un divorce",
           1866
          ],
          [
           "Féval",
           "Les Nuits de Paris Premiere nuit Gaulois et Romains",
           1852
          ],
          [
           "Huysmans",
           "Là-bas",
           1891
          ],
          [
           "Zola",
           "La Joie de vivre",
           1884
          ],
          [
           "Balzac",
           "Le Cousin Pons",
           1847
          ],
          [
           "Zola",
           "Une page d'amour",
           1878
          ],
          [
           "Maupassant",
           "Bel ami édition 1901",
           1885
          ],
          [
           "Maupassant",
           "Bel-ami",
           1885
          ],
          [
           "Dickens",
           "Le conte des deux cités",
           1859
          ],
          [
           "Zola",
           "Le Ventre de Paris",
           1873
          ],
          [
           "Zola",
           "Au bonheur des dames",
           1883
          ],
          [
           "Zola",
           "L'Argent",
           1891
          ],
          [
           "Zola",
           "La Fortune des Rougon",
           1871
          ],
          [
           "Colette",
           "Claudine à Paris",
           1901
          ],
          [
           "Zola",
           "Thérèse Raquin",
           1867
          ],
          [
           "Zola",
           "La Terre",
           1887
          ],
          [
           "Zola",
           "La Débâcle",
           1892
          ],
          [
           "Balzac",
           "Splendeurs et misères des courtisanes 3 Où mènent les mauvais chemins",
           1838
          ],
          [
           "Zola",
           "Le Docteur Pascal",
           1893
          ],
          [
           "Balzac",
           "La Cousine Bette",
           1846
          ],
          [
           "Zola",
           "Le Rêve",
           1888
          ],
          [
           "Maupassant",
           "Miss Harriet",
           1884
          ],
          [
           "Zola",
           "Pot-bouille",
           1882
          ],
          [
           "Colette",
           "La Vagabonde",
           1910
          ],
          [
           "Vallés",
           "Le Bachelier",
           1909
          ],
          [
           "France",
           "Le Lys rouge",
           1894
          ],
          [
           "Audoux",
           "Marie-Claire",
           1910
          ],
          [
           "Dumas",
           "La Dame aux camélias",
           1848
          ],
          [
           "Vivien",
           "Brumes de fjords",
           1902
          ],
          [
           "Colette",
           "L'Ingénue libertine",
           1909
          ],
          [
           "Zola",
           "Son Excellence Eugène Rougon",
           1876
          ],
          [
           "Zola",
           "La Conquête de Plassans",
           1874
          ],
          [
           "Flaubert",
           "Bouvard et Pécuchet",
           1881
          ],
          [
           "Maupassant",
           "Contes du jour et de la nuit",
           1885
          ],
          [
           "Bovet",
           "Autour de l'étendard",
           1904
          ],
          [
           "Flaubert",
           "Hérodias",
           1877
          ],
          [
           "Balzac",
           "La Rabouilleuse",
           1842
          ],
          [
           "Balzac",
           "Splendeurs et misères des courtisanes 4 La dernière incarnation de Vautrin",
           1838
          ],
          [
           "Maupassant",
           "Claire de Lune",
           1883
          ],
          [
           "Vallès",
           "L'Enfant",
           1889
          ],
          [
           "France",
           "Histoire contemporaine IV Monsieur Bergeret à Paris",
           1901
          ],
          [
           "Dumas",
           "Les Trois Mousquetaires",
           1844
          ],
          [
           "Gyp",
           "Les Malheurs de Sophie",
           1898
          ],
          [
           "James",
           "L'Américain à Paris tome 2",
           1877
          ],
          [
           "Mérimée",
           "Carmen",
           1847
          ],
          [
           "Verne",
           "Le Tour du monde en quatre-vingts jours",
           1872
          ],
          [
           "Balzac",
           "Splendeurs et misères des courtisanes 2 A combien l'amour revient aux vieillards",
           1838
          ],
          [
           "James",
           "L'Américain à Paris tome 1",
           1877
          ],
          [
           "Nerval",
           "Les Chimères",
           1854
          ]
         ],
         "hovertemplate": "x=%{x}<br>emo and lightning technology paragraph share of all paragraphs=%{y}<br>author=%{customdata[0]}<br>title=%{customdata[1]}<br>year=%{customdata[2]}<extra></extra>",
         "legendgroup": "",
         "marker": {
          "color": "#636efa",
          "pattern": {
           "shape": ""
          }
         },
         "name": "",
         "offsetgroup": "",
         "orientation": "v",
         "showlegend": false,
         "textposition": "auto",
         "type": "bar",
         "x": [
          1,
          2,
          3,
          4,
          5,
          6,
          7,
          8,
          9,
          10,
          11,
          12,
          13,
          14,
          15,
          16,
          17,
          18,
          19,
          20,
          21,
          22,
          23,
          24,
          25,
          26,
          27,
          28,
          29,
          30,
          31,
          32,
          33,
          34,
          35,
          36,
          37,
          38,
          39,
          40,
          41,
          42,
          43,
          44,
          45,
          46,
          47,
          48,
          49,
          50,
          51,
          52,
          53,
          54,
          55,
          56,
          57,
          58,
          59,
          60,
          61,
          62,
          63,
          64,
          65,
          66,
          67,
          68,
          69,
          70,
          71,
          72,
          73,
          74,
          75,
          76,
          77,
          78,
          79,
          80,
          81,
          82,
          83,
          84,
          85,
          86,
          87,
          88,
          89,
          90,
          91,
          92,
          93,
          94,
          95,
          96,
          97,
          98,
          99,
          100,
          101
         ],
         "xaxis": "x",
         "y": [
          0.10022779043280182,
          0.0650319829424307,
          0.05859375,
          0.04927536231884058,
          0.04285714285714286,
          0.033962264150943396,
          0.032119914346895075,
          0.026143790849673203,
          0.024675324675324677,
          0.023638232271325797,
          0.018315018315018316,
          0.017937219730941704,
          0.017467248908296942,
          0.01727447216890595,
          0.015706806282722512,
          0.015617253346554288,
          0.015384615384615385,
          0.013856812933025405,
          0.012723845428840716,
          0.01167728237791932,
          0.01129032258064516,
          0.011153000314169022,
          0.01104158998895841,
          0.009535160905840286,
          0.008991008991008992,
          0.008870967741935484,
          0.008701472556894244,
          0.0077348066298342545,
          0.007692307692307693,
          0.007391304347826087,
          0.00674955595026643,
          0.006729475100942127,
          0.006382978723404255,
          0.0060086934287905906,
          0.005808325266214908,
          0.005584642233856894,
          0.005575647980711272,
          0.005157593123209169,
          0.005124919923126201,
          0.0050863338241199305,
          0.004824259131633356,
          0.004784688995215311,
          0.0047515612272603855,
          0.004730368968779565,
          0.004672897196261682,
          0.004655803126039242,
          0.00458656330749354,
          0.004545454545454545,
          0.0044681969511126685,
          0.004372950179603311,
          0.0043397396156230625,
          0.004328453214513049,
          0.004263693014102984,
          0.00425531914893617,
          0.004176818656456666,
          0.004132942999827794,
          0.003938115330520394,
          0.0037980693147649943,
          0.003767768453502312,
          0.003767768453502312,
          0.0036769905246782633,
          0.003604253018561903,
          0.003462204270051933,
          0.003333987056285546,
          0.00319693094629156,
          0.003179650238473768,
          0.0030977189524077726,
          0.0030903216743924707,
          0.0030744552867263734,
          0.003067484662576687,
          0.003050773589017215,
          0.003032465215840171,
          0.0029576076240552087,
          0.002851033499643621,
          0.002824060999717594,
          0.002809427189012018,
          0.0027784209307710117,
          0.0027247956403269754,
          0.0026191723415400735,
          0.002618562700029095,
          0.0025575447570332483,
          0.002531645569620253,
          0.002425944841675179,
          0.0022796352583586625,
          0.002102312543798178,
          0.002014098690835851,
          0.0019837333862328904,
          0.001834862385321101,
          0.0017425939756036844,
          0.0016189962223421479,
          0.0016120365394948952,
          0.0014792899408284023,
          0.0012100677637947724,
          0.0011319686821997924,
          0.001095290251916758,
          0.0010842067220816769,
          0.0008038585209003215,
          0.0007672634271099745,
          0.0005347593582887701,
          0.000227842333105491,
          0
         ],
         "yaxis": "y"
        }
       ],
       "layout": {
        "barmode": "relative",
        "legend": {
         "tracegroupgap": 0
        },
        "template": {
         "data": {
          "bar": [
           {
            "error_x": {
             "color": "#2a3f5f"
            },
            "error_y": {
             "color": "#2a3f5f"
            },
            "marker": {
             "line": {
              "color": "#E5ECF6",
              "width": 0.5
             },
             "pattern": {
              "fillmode": "overlay",
              "size": 10,
              "solidity": 0.2
             }
            },
            "type": "bar"
           }
          ],
          "barpolar": [
           {
            "marker": {
             "line": {
              "color": "#E5ECF6",
              "width": 0.5
             },
             "pattern": {
              "fillmode": "overlay",
              "size": 10,
              "solidity": 0.2
             }
            },
            "type": "barpolar"
           }
          ],
          "carpet": [
           {
            "aaxis": {
             "endlinecolor": "#2a3f5f",
             "gridcolor": "white",
             "linecolor": "white",
             "minorgridcolor": "white",
             "startlinecolor": "#2a3f5f"
            },
            "baxis": {
             "endlinecolor": "#2a3f5f",
             "gridcolor": "white",
             "linecolor": "white",
             "minorgridcolor": "white",
             "startlinecolor": "#2a3f5f"
            },
            "type": "carpet"
           }
          ],
          "choropleth": [
           {
            "colorbar": {
             "outlinewidth": 0,
             "ticks": ""
            },
            "type": "choropleth"
           }
          ],
          "contour": [
           {
            "colorbar": {
             "outlinewidth": 0,
             "ticks": ""
            },
            "colorscale": [
             [
              0,
              "#0d0887"
             ],
             [
              0.1111111111111111,
              "#46039f"
             ],
             [
              0.2222222222222222,
              "#7201a8"
             ],
             [
              0.3333333333333333,
              "#9c179e"
             ],
             [
              0.4444444444444444,
              "#bd3786"
             ],
             [
              0.5555555555555556,
              "#d8576b"
             ],
             [
              0.6666666666666666,
              "#ed7953"
             ],
             [
              0.7777777777777778,
              "#fb9f3a"
             ],
             [
              0.8888888888888888,
              "#fdca26"
             ],
             [
              1,
              "#f0f921"
             ]
            ],
            "type": "contour"
           }
          ],
          "contourcarpet": [
           {
            "colorbar": {
             "outlinewidth": 0,
             "ticks": ""
            },
            "type": "contourcarpet"
           }
          ],
          "heatmap": [
           {
            "colorbar": {
             "outlinewidth": 0,
             "ticks": ""
            },
            "colorscale": [
             [
              0,
              "#0d0887"
             ],
             [
              0.1111111111111111,
              "#46039f"
             ],
             [
              0.2222222222222222,
              "#7201a8"
             ],
             [
              0.3333333333333333,
              "#9c179e"
             ],
             [
              0.4444444444444444,
              "#bd3786"
             ],
             [
              0.5555555555555556,
              "#d8576b"
             ],
             [
              0.6666666666666666,
              "#ed7953"
             ],
             [
              0.7777777777777778,
              "#fb9f3a"
             ],
             [
              0.8888888888888888,
              "#fdca26"
             ],
             [
              1,
              "#f0f921"
             ]
            ],
            "type": "heatmap"
           }
          ],
          "heatmapgl": [
           {
            "colorbar": {
             "outlinewidth": 0,
             "ticks": ""
            },
            "colorscale": [
             [
              0,
              "#0d0887"
             ],
             [
              0.1111111111111111,
              "#46039f"
             ],
             [
              0.2222222222222222,
              "#7201a8"
             ],
             [
              0.3333333333333333,
              "#9c179e"
             ],
             [
              0.4444444444444444,
              "#bd3786"
             ],
             [
              0.5555555555555556,
              "#d8576b"
             ],
             [
              0.6666666666666666,
              "#ed7953"
             ],
             [
              0.7777777777777778,
              "#fb9f3a"
             ],
             [
              0.8888888888888888,
              "#fdca26"
             ],
             [
              1,
              "#f0f921"
             ]
            ],
            "type": "heatmapgl"
           }
          ],
          "histogram": [
           {
            "marker": {
             "pattern": {
              "fillmode": "overlay",
              "size": 10,
              "solidity": 0.2
             }
            },
            "type": "histogram"
           }
          ],
          "histogram2d": [
           {
            "colorbar": {
             "outlinewidth": 0,
             "ticks": ""
            },
            "colorscale": [
             [
              0,
              "#0d0887"
             ],
             [
              0.1111111111111111,
              "#46039f"
             ],
             [
              0.2222222222222222,
              "#7201a8"
             ],
             [
              0.3333333333333333,
              "#9c179e"
             ],
             [
              0.4444444444444444,
              "#bd3786"
             ],
             [
              0.5555555555555556,
              "#d8576b"
             ],
             [
              0.6666666666666666,
              "#ed7953"
             ],
             [
              0.7777777777777778,
              "#fb9f3a"
             ],
             [
              0.8888888888888888,
              "#fdca26"
             ],
             [
              1,
              "#f0f921"
             ]
            ],
            "type": "histogram2d"
           }
          ],
          "histogram2dcontour": [
           {
            "colorbar": {
             "outlinewidth": 0,
             "ticks": ""
            },
            "colorscale": [
             [
              0,
              "#0d0887"
             ],
             [
              0.1111111111111111,
              "#46039f"
             ],
             [
              0.2222222222222222,
              "#7201a8"
             ],
             [
              0.3333333333333333,
              "#9c179e"
             ],
             [
              0.4444444444444444,
              "#bd3786"
             ],
             [
              0.5555555555555556,
              "#d8576b"
             ],
             [
              0.6666666666666666,
              "#ed7953"
             ],
             [
              0.7777777777777778,
              "#fb9f3a"
             ],
             [
              0.8888888888888888,
              "#fdca26"
             ],
             [
              1,
              "#f0f921"
             ]
            ],
            "type": "histogram2dcontour"
           }
          ],
          "mesh3d": [
           {
            "colorbar": {
             "outlinewidth": 0,
             "ticks": ""
            },
            "type": "mesh3d"
           }
          ],
          "parcoords": [
           {
            "line": {
             "colorbar": {
              "outlinewidth": 0,
              "ticks": ""
             }
            },
            "type": "parcoords"
           }
          ],
          "pie": [
           {
            "automargin": true,
            "type": "pie"
           }
          ],
          "scatter": [
           {
            "fillpattern": {
             "fillmode": "overlay",
             "size": 10,
             "solidity": 0.2
            },
            "type": "scatter"
           }
          ],
          "scatter3d": [
           {
            "line": {
             "colorbar": {
              "outlinewidth": 0,
              "ticks": ""
             }
            },
            "marker": {
             "colorbar": {
              "outlinewidth": 0,
              "ticks": ""
             }
            },
            "type": "scatter3d"
           }
          ],
          "scattercarpet": [
           {
            "marker": {
             "colorbar": {
              "outlinewidth": 0,
              "ticks": ""
             }
            },
            "type": "scattercarpet"
           }
          ],
          "scattergeo": [
           {
            "marker": {
             "colorbar": {
              "outlinewidth": 0,
              "ticks": ""
             }
            },
            "type": "scattergeo"
           }
          ],
          "scattergl": [
           {
            "marker": {
             "colorbar": {
              "outlinewidth": 0,
              "ticks": ""
             }
            },
            "type": "scattergl"
           }
          ],
          "scattermapbox": [
           {
            "marker": {
             "colorbar": {
              "outlinewidth": 0,
              "ticks": ""
             }
            },
            "type": "scattermapbox"
           }
          ],
          "scatterpolar": [
           {
            "marker": {
             "colorbar": {
              "outlinewidth": 0,
              "ticks": ""
             }
            },
            "type": "scatterpolar"
           }
          ],
          "scatterpolargl": [
           {
            "marker": {
             "colorbar": {
              "outlinewidth": 0,
              "ticks": ""
             }
            },
            "type": "scatterpolargl"
           }
          ],
          "scatterternary": [
           {
            "marker": {
             "colorbar": {
              "outlinewidth": 0,
              "ticks": ""
             }
            },
            "type": "scatterternary"
           }
          ],
          "surface": [
           {
            "colorbar": {
             "outlinewidth": 0,
             "ticks": ""
            },
            "colorscale": [
             [
              0,
              "#0d0887"
             ],
             [
              0.1111111111111111,
              "#46039f"
             ],
             [
              0.2222222222222222,
              "#7201a8"
             ],
             [
              0.3333333333333333,
              "#9c179e"
             ],
             [
              0.4444444444444444,
              "#bd3786"
             ],
             [
              0.5555555555555556,
              "#d8576b"
             ],
             [
              0.6666666666666666,
              "#ed7953"
             ],
             [
              0.7777777777777778,
              "#fb9f3a"
             ],
             [
              0.8888888888888888,
              "#fdca26"
             ],
             [
              1,
              "#f0f921"
             ]
            ],
            "type": "surface"
           }
          ],
          "table": [
           {
            "cells": {
             "fill": {
              "color": "#EBF0F8"
             },
             "line": {
              "color": "white"
             }
            },
            "header": {
             "fill": {
              "color": "#C8D4E3"
             },
             "line": {
              "color": "white"
             }
            },
            "type": "table"
           }
          ]
         },
         "layout": {
          "annotationdefaults": {
           "arrowcolor": "#2a3f5f",
           "arrowhead": 0,
           "arrowwidth": 1
          },
          "autotypenumbers": "strict",
          "coloraxis": {
           "colorbar": {
            "outlinewidth": 0,
            "ticks": ""
           }
          },
          "colorscale": {
           "diverging": [
            [
             0,
             "#8e0152"
            ],
            [
             0.1,
             "#c51b7d"
            ],
            [
             0.2,
             "#de77ae"
            ],
            [
             0.3,
             "#f1b6da"
            ],
            [
             0.4,
             "#fde0ef"
            ],
            [
             0.5,
             "#f7f7f7"
            ],
            [
             0.6,
             "#e6f5d0"
            ],
            [
             0.7,
             "#b8e186"
            ],
            [
             0.8,
             "#7fbc41"
            ],
            [
             0.9,
             "#4d9221"
            ],
            [
             1,
             "#276419"
            ]
           ],
           "sequential": [
            [
             0,
             "#0d0887"
            ],
            [
             0.1111111111111111,
             "#46039f"
            ],
            [
             0.2222222222222222,
             "#7201a8"
            ],
            [
             0.3333333333333333,
             "#9c179e"
            ],
            [
             0.4444444444444444,
             "#bd3786"
            ],
            [
             0.5555555555555556,
             "#d8576b"
            ],
            [
             0.6666666666666666,
             "#ed7953"
            ],
            [
             0.7777777777777778,
             "#fb9f3a"
            ],
            [
             0.8888888888888888,
             "#fdca26"
            ],
            [
             1,
             "#f0f921"
            ]
           ],
           "sequentialminus": [
            [
             0,
             "#0d0887"
            ],
            [
             0.1111111111111111,
             "#46039f"
            ],
            [
             0.2222222222222222,
             "#7201a8"
            ],
            [
             0.3333333333333333,
             "#9c179e"
            ],
            [
             0.4444444444444444,
             "#bd3786"
            ],
            [
             0.5555555555555556,
             "#d8576b"
            ],
            [
             0.6666666666666666,
             "#ed7953"
            ],
            [
             0.7777777777777778,
             "#fb9f3a"
            ],
            [
             0.8888888888888888,
             "#fdca26"
            ],
            [
             1,
             "#f0f921"
            ]
           ]
          },
          "colorway": [
           "#636efa",
           "#EF553B",
           "#00cc96",
           "#ab63fa",
           "#FFA15A",
           "#19d3f3",
           "#FF6692",
           "#B6E880",
           "#FF97FF",
           "#FECB52"
          ],
          "font": {
           "color": "#2a3f5f"
          },
          "geo": {
           "bgcolor": "white",
           "lakecolor": "white",
           "landcolor": "#E5ECF6",
           "showlakes": true,
           "showland": true,
           "subunitcolor": "white"
          },
          "hoverlabel": {
           "align": "left"
          },
          "hovermode": "closest",
          "mapbox": {
           "style": "light"
          },
          "paper_bgcolor": "white",
          "plot_bgcolor": "#E5ECF6",
          "polar": {
           "angularaxis": {
            "gridcolor": "white",
            "linecolor": "white",
            "ticks": ""
           },
           "bgcolor": "#E5ECF6",
           "radialaxis": {
            "gridcolor": "white",
            "linecolor": "white",
            "ticks": ""
           }
          },
          "scene": {
           "xaxis": {
            "backgroundcolor": "#E5ECF6",
            "gridcolor": "white",
            "gridwidth": 2,
            "linecolor": "white",
            "showbackground": true,
            "ticks": "",
            "zerolinecolor": "white"
           },
           "yaxis": {
            "backgroundcolor": "#E5ECF6",
            "gridcolor": "white",
            "gridwidth": 2,
            "linecolor": "white",
            "showbackground": true,
            "ticks": "",
            "zerolinecolor": "white"
           },
           "zaxis": {
            "backgroundcolor": "#E5ECF6",
            "gridcolor": "white",
            "gridwidth": 2,
            "linecolor": "white",
            "showbackground": true,
            "ticks": "",
            "zerolinecolor": "white"
           }
          },
          "shapedefaults": {
           "line": {
            "color": "#2a3f5f"
           }
          },
          "ternary": {
           "aaxis": {
            "gridcolor": "white",
            "linecolor": "white",
            "ticks": ""
           },
           "baxis": {
            "gridcolor": "white",
            "linecolor": "white",
            "ticks": ""
           },
           "bgcolor": "#E5ECF6",
           "caxis": {
            "gridcolor": "white",
            "linecolor": "white",
            "ticks": ""
           }
          },
          "title": {
           "x": 0.05
          },
          "xaxis": {
           "automargin": true,
           "gridcolor": "white",
           "linecolor": "white",
           "ticks": "",
           "title": {
            "standoff": 15
           },
           "zerolinecolor": "white",
           "zerolinewidth": 2
          },
          "yaxis": {
           "automargin": true,
           "gridcolor": "white",
           "linecolor": "white",
           "ticks": "",
           "title": {
            "standoff": 15
           },
           "zerolinecolor": "white",
           "zerolinewidth": 2
          }
         }
        },
        "title": {
         "text": "Relative frequency of paragraphs"
        },
        "xaxis": {
         "anchor": "y",
         "domain": [
          0,
          1
         ],
         "title": {
          "text": "Document in chronological order"
         }
        },
        "yaxis": {
         "anchor": "x",
         "domain": [
          0,
          1
         ],
         "title": {
          "text": "Relative frequence"
         }
        }
       }
      },
      "text/html": [
       "<div>                            <div id=\"83d19a33-71af-4b46-9af3-4660a9d47c57\" class=\"plotly-graph-div\" style=\"height:525px; width:100%;\"></div>            <script type=\"text/javascript\">                require([\"plotly\"], function(Plotly) {                    window.PLOTLYENV=window.PLOTLYENV || {};                                    if (document.getElementById(\"83d19a33-71af-4b46-9af3-4660a9d47c57\")) {                    Plotly.newPlot(                        \"83d19a33-71af-4b46-9af3-4660a9d47c57\",                        [{\"alignmentgroup\":\"True\",\"customdata\":[[\"Baudelaire\",\"Les Fleurs du Mal\",1855],[\"Nouailles\",\"Les Eblouissements\",1907],[\"Nouailles\",\"Le Caeur innombrable\",1901],[\"Rimbaud\",\"Po\\u00e9sies\",1870],[\"Mallarm\\u00e9\",\"Po\\u00e9sies\",1899],[\"Nouailles\",\"L'Ombre des jours\",1902],[\"Laforgue\",\"Les complaintes\",1885],[\"Vivien\",\"Cendres et poussi\\u00e8res\",1902],[\"Prudhomme\",\"Po\\u00e9sies 1865_1866\",1865],[\"Baudelaire\",\"Le spleen de Paris\",1869],[\"Tinayre\",\"La Rebelle\",1906],[\"Huysmans\",\"A rebours\",1884],[\"Verlaine\",\"Oeuvres compl\\u00e8tes vol 1\",1902],[\"Colette\",\"La Retraite sentimentale\",1907],[\"France\",\"Les Po\\u00e8mes dor\\u00e9s\",1873],[\"Proust\",\"Du c\\u00f4t\\u00e9 de chez Swann\",1913],[\"Vivien\",\"Flambeaux \\u00e9teinte\",1907],[\"Rimbaud\",\"Les Illuminations\",1872],[\"Proust\",\"Les Plaisirs et les jours\",1898],[\"Rachilde\",\"Monsieur V\\u00e9nus\",1884],[\"Flaubert\",\"Un caeur simple\",1877],[\"Gautier\",\"Le Capitaine Fracasse\",1863],[\"Tinayre\",\"La Maison du p\\u00e9ch\\u00e9\",1902],[\"Huysmans\",\"En route\",1895],[\"Balzac\",\"Splendeurs et mis\\u00e8res des courtisanes 1 Esther heureuse\",1838],[\"Zola\",\"L'oeuvre\",1886],[\"Huysmans\",\"La cath\\u00e9drale\",1898],[\"Daudet\",\"Rose et Ninette\",1911],[\"Zola\",\"Travail\",1901],[\"Verne\",\"Voyage au centre de la terre\",1864],[\"Zola\",\"La B\\u00eate humaine\",1870],[\"Zola\",\"La Cur\\u00e9e\",1871],[\"Flaubert\",\"La L\\u00e9gende de Saint Julien l'Hospitalier\",1877],[\"Zola\",\"Nana\",1879],[\"Maupassant\",\"La Maison Tellier\",1881],[\"Bourget\",\"Le disciple\",1889],[\"Dumas\",\"Le Compte de Monte Cristo\",1844],[\"Maupassant\",\"Une vie\",1883],[\"Vall\\u00e9s\",\"L'Insurg\\u00e9\",1908],[\"Daudet\",\"Les rois en exil\",1879],[\"Vivien\",\"Une Femme m'apparut\",1905],[\"Hugo\",\"Les Mis\\u00e9rables\",1862],[\"Flaubert\",\"L'\\u00e9ducation sentimentale\",1869],[\"Maupassant\",\"Les Dimanches d'un bourgeois \\u00e0 Paris\",1910],[\"Verne\",\"Vingt mille lieues sous les mers\",1869],[\"DelarueMardrus\",\"Comme tout le monde\",1910],[\"Sue\",\"Les Myst\\u00e8res de Paris\",1842],[\"Maupassant\",\"La parure\",1884],[\"Daudet\",\"Le Soutien de Famille\",1885],[\"Zola\",\"La Faute de l'abb\\u00e9 Mouret\",1866],[\"Zola\",\"Germinal\",1885],[\"Zola\",\"L'Assommoir\",1876],[\"L\\u00e9o\",\"Un divorce\",1866],[\"F\\u00e9val\",\"Les Nuits de Paris Premiere nuit Gaulois et Romains\",1852],[\"Huysmans\",\"L\\u00e0-bas\",1891],[\"Zola\",\"La Joie de vivre\",1884],[\"Balzac\",\"Le Cousin Pons\",1847],[\"Zola\",\"Une page d'amour\",1878],[\"Maupassant\",\"Bel ami \\u00e9dition 1901\",1885],[\"Maupassant\",\"Bel-ami\",1885],[\"Dickens\",\"Le conte des deux cit\\u00e9s\",1859],[\"Zola\",\"Le Ventre de Paris\",1873],[\"Zola\",\"Au bonheur des dames\",1883],[\"Zola\",\"L'Argent\",1891],[\"Zola\",\"La Fortune des Rougon\",1871],[\"Colette\",\"Claudine \\u00e0 Paris\",1901],[\"Zola\",\"Th\\u00e9r\\u00e8se Raquin\",1867],[\"Zola\",\"La Terre\",1887],[\"Zola\",\"La D\\u00e9b\\u00e2cle\",1892],[\"Balzac\",\"Splendeurs et mis\\u00e8res des courtisanes 3 O\\u00f9 m\\u00e8nent les mauvais chemins\",1838],[\"Zola\",\"Le Docteur Pascal\",1893],[\"Balzac\",\"La Cousine Bette\",1846],[\"Zola\",\"Le R\\u00eave\",1888],[\"Maupassant\",\"Miss Harriet\",1884],[\"Zola\",\"Pot-bouille\",1882],[\"Colette\",\"La Vagabonde\",1910],[\"Vall\\u00e9s\",\"Le Bachelier\",1909],[\"France\",\"Le Lys rouge\",1894],[\"Audoux\",\"Marie-Claire\",1910],[\"Dumas\",\"La Dame aux cam\\u00e9lias\",1848],[\"Vivien\",\"Brumes de fjords\",1902],[\"Colette\",\"L'Ing\\u00e9nue libertine\",1909],[\"Zola\",\"Son Excellence Eug\\u00e8ne Rougon\",1876],[\"Zola\",\"La Conqu\\u00eate de Plassans\",1874],[\"Flaubert\",\"Bouvard et P\\u00e9cuchet\",1881],[\"Maupassant\",\"Contes du jour et de la nuit\",1885],[\"Bovet\",\"Autour de l'\\u00e9tendard\",1904],[\"Flaubert\",\"H\\u00e9rodias\",1877],[\"Balzac\",\"La Rabouilleuse\",1842],[\"Balzac\",\"Splendeurs et mis\\u00e8res des courtisanes 4 La derni\\u00e8re incarnation de Vautrin\",1838],[\"Maupassant\",\"Claire de Lune\",1883],[\"Vall\\u00e8s\",\"L'Enfant\",1889],[\"France\",\"Histoire contemporaine IV Monsieur Bergeret \\u00e0 Paris\",1901],[\"Dumas\",\"Les Trois Mousquetaires\",1844],[\"Gyp\",\"Les Malheurs de Sophie\",1898],[\"James\",\"L'Am\\u00e9ricain \\u00e0 Paris tome 2\",1877],[\"M\\u00e9rim\\u00e9e\",\"Carmen\",1847],[\"Verne\",\"Le Tour du monde en quatre-vingts jours\",1872],[\"Balzac\",\"Splendeurs et mis\\u00e8res des courtisanes 2 A combien l'amour revient aux vieillards\",1838],[\"James\",\"L'Am\\u00e9ricain \\u00e0 Paris tome 1\",1877],[\"Nerval\",\"Les Chim\\u00e8res\",1854]],\"hovertemplate\":\"x=%{x}<br>emo and lightning technology paragraph share of all paragraphs=%{y}<br>author=%{customdata[0]}<br>title=%{customdata[1]}<br>year=%{customdata[2]}<extra></extra>\",\"legendgroup\":\"\",\"marker\":{\"color\":\"#636efa\",\"pattern\":{\"shape\":\"\"}},\"name\":\"\",\"offsetgroup\":\"\",\"orientation\":\"v\",\"showlegend\":false,\"textposition\":\"auto\",\"x\":[1,2,3,4,5,6,7,8,9,10,11,12,13,14,15,16,17,18,19,20,21,22,23,24,25,26,27,28,29,30,31,32,33,34,35,36,37,38,39,40,41,42,43,44,45,46,47,48,49,50,51,52,53,54,55,56,57,58,59,60,61,62,63,64,65,66,67,68,69,70,71,72,73,74,75,76,77,78,79,80,81,82,83,84,85,86,87,88,89,90,91,92,93,94,95,96,97,98,99,100,101],\"xaxis\":\"x\",\"y\":[0.10022779043280182,0.0650319829424307,0.05859375,0.04927536231884058,0.04285714285714286,0.033962264150943396,0.032119914346895075,0.026143790849673203,0.024675324675324677,0.023638232271325797,0.018315018315018316,0.017937219730941704,0.017467248908296942,0.01727447216890595,0.015706806282722512,0.015617253346554288,0.015384615384615385,0.013856812933025405,0.012723845428840716,0.01167728237791932,0.01129032258064516,0.011153000314169022,0.01104158998895841,0.009535160905840286,0.008991008991008992,0.008870967741935484,0.008701472556894244,0.0077348066298342545,0.007692307692307693,0.007391304347826087,0.00674955595026643,0.006729475100942127,0.006382978723404255,0.0060086934287905906,0.005808325266214908,0.005584642233856894,0.005575647980711272,0.005157593123209169,0.005124919923126201,0.0050863338241199305,0.004824259131633356,0.004784688995215311,0.0047515612272603855,0.004730368968779565,0.004672897196261682,0.004655803126039242,0.00458656330749354,0.004545454545454545,0.0044681969511126685,0.004372950179603311,0.0043397396156230625,0.004328453214513049,0.004263693014102984,0.00425531914893617,0.004176818656456666,0.004132942999827794,0.003938115330520394,0.0037980693147649943,0.003767768453502312,0.003767768453502312,0.0036769905246782633,0.003604253018561903,0.003462204270051933,0.003333987056285546,0.00319693094629156,0.003179650238473768,0.0030977189524077726,0.0030903216743924707,0.0030744552867263734,0.003067484662576687,0.003050773589017215,0.003032465215840171,0.0029576076240552087,0.002851033499643621,0.002824060999717594,0.002809427189012018,0.0027784209307710117,0.0027247956403269754,0.0026191723415400735,0.002618562700029095,0.0025575447570332483,0.002531645569620253,0.002425944841675179,0.0022796352583586625,0.002102312543798178,0.002014098690835851,0.0019837333862328904,0.001834862385321101,0.0017425939756036844,0.0016189962223421479,0.0016120365394948952,0.0014792899408284023,0.0012100677637947724,0.0011319686821997924,0.001095290251916758,0.0010842067220816769,0.0008038585209003215,0.0007672634271099745,0.0005347593582887701,0.000227842333105491,0.0],\"yaxis\":\"y\",\"type\":\"bar\"}],                        {\"template\":{\"data\":{\"histogram2dcontour\":[{\"type\":\"histogram2dcontour\",\"colorbar\":{\"outlinewidth\":0,\"ticks\":\"\"},\"colorscale\":[[0.0,\"#0d0887\"],[0.1111111111111111,\"#46039f\"],[0.2222222222222222,\"#7201a8\"],[0.3333333333333333,\"#9c179e\"],[0.4444444444444444,\"#bd3786\"],[0.5555555555555556,\"#d8576b\"],[0.6666666666666666,\"#ed7953\"],[0.7777777777777778,\"#fb9f3a\"],[0.8888888888888888,\"#fdca26\"],[1.0,\"#f0f921\"]]}],\"choropleth\":[{\"type\":\"choropleth\",\"colorbar\":{\"outlinewidth\":0,\"ticks\":\"\"}}],\"histogram2d\":[{\"type\":\"histogram2d\",\"colorbar\":{\"outlinewidth\":0,\"ticks\":\"\"},\"colorscale\":[[0.0,\"#0d0887\"],[0.1111111111111111,\"#46039f\"],[0.2222222222222222,\"#7201a8\"],[0.3333333333333333,\"#9c179e\"],[0.4444444444444444,\"#bd3786\"],[0.5555555555555556,\"#d8576b\"],[0.6666666666666666,\"#ed7953\"],[0.7777777777777778,\"#fb9f3a\"],[0.8888888888888888,\"#fdca26\"],[1.0,\"#f0f921\"]]}],\"heatmap\":[{\"type\":\"heatmap\",\"colorbar\":{\"outlinewidth\":0,\"ticks\":\"\"},\"colorscale\":[[0.0,\"#0d0887\"],[0.1111111111111111,\"#46039f\"],[0.2222222222222222,\"#7201a8\"],[0.3333333333333333,\"#9c179e\"],[0.4444444444444444,\"#bd3786\"],[0.5555555555555556,\"#d8576b\"],[0.6666666666666666,\"#ed7953\"],[0.7777777777777778,\"#fb9f3a\"],[0.8888888888888888,\"#fdca26\"],[1.0,\"#f0f921\"]]}],\"heatmapgl\":[{\"type\":\"heatmapgl\",\"colorbar\":{\"outlinewidth\":0,\"ticks\":\"\"},\"colorscale\":[[0.0,\"#0d0887\"],[0.1111111111111111,\"#46039f\"],[0.2222222222222222,\"#7201a8\"],[0.3333333333333333,\"#9c179e\"],[0.4444444444444444,\"#bd3786\"],[0.5555555555555556,\"#d8576b\"],[0.6666666666666666,\"#ed7953\"],[0.7777777777777778,\"#fb9f3a\"],[0.8888888888888888,\"#fdca26\"],[1.0,\"#f0f921\"]]}],\"contourcarpet\":[{\"type\":\"contourcarpet\",\"colorbar\":{\"outlinewidth\":0,\"ticks\":\"\"}}],\"contour\":[{\"type\":\"contour\",\"colorbar\":{\"outlinewidth\":0,\"ticks\":\"\"},\"colorscale\":[[0.0,\"#0d0887\"],[0.1111111111111111,\"#46039f\"],[0.2222222222222222,\"#7201a8\"],[0.3333333333333333,\"#9c179e\"],[0.4444444444444444,\"#bd3786\"],[0.5555555555555556,\"#d8576b\"],[0.6666666666666666,\"#ed7953\"],[0.7777777777777778,\"#fb9f3a\"],[0.8888888888888888,\"#fdca26\"],[1.0,\"#f0f921\"]]}],\"surface\":[{\"type\":\"surface\",\"colorbar\":{\"outlinewidth\":0,\"ticks\":\"\"},\"colorscale\":[[0.0,\"#0d0887\"],[0.1111111111111111,\"#46039f\"],[0.2222222222222222,\"#7201a8\"],[0.3333333333333333,\"#9c179e\"],[0.4444444444444444,\"#bd3786\"],[0.5555555555555556,\"#d8576b\"],[0.6666666666666666,\"#ed7953\"],[0.7777777777777778,\"#fb9f3a\"],[0.8888888888888888,\"#fdca26\"],[1.0,\"#f0f921\"]]}],\"mesh3d\":[{\"type\":\"mesh3d\",\"colorbar\":{\"outlinewidth\":0,\"ticks\":\"\"}}],\"scatter\":[{\"fillpattern\":{\"fillmode\":\"overlay\",\"size\":10,\"solidity\":0.2},\"type\":\"scatter\"}],\"parcoords\":[{\"type\":\"parcoords\",\"line\":{\"colorbar\":{\"outlinewidth\":0,\"ticks\":\"\"}}}],\"scatterpolargl\":[{\"type\":\"scatterpolargl\",\"marker\":{\"colorbar\":{\"outlinewidth\":0,\"ticks\":\"\"}}}],\"bar\":[{\"error_x\":{\"color\":\"#2a3f5f\"},\"error_y\":{\"color\":\"#2a3f5f\"},\"marker\":{\"line\":{\"color\":\"#E5ECF6\",\"width\":0.5},\"pattern\":{\"fillmode\":\"overlay\",\"size\":10,\"solidity\":0.2}},\"type\":\"bar\"}],\"scattergeo\":[{\"type\":\"scattergeo\",\"marker\":{\"colorbar\":{\"outlinewidth\":0,\"ticks\":\"\"}}}],\"scatterpolar\":[{\"type\":\"scatterpolar\",\"marker\":{\"colorbar\":{\"outlinewidth\":0,\"ticks\":\"\"}}}],\"histogram\":[{\"marker\":{\"pattern\":{\"fillmode\":\"overlay\",\"size\":10,\"solidity\":0.2}},\"type\":\"histogram\"}],\"scattergl\":[{\"type\":\"scattergl\",\"marker\":{\"colorbar\":{\"outlinewidth\":0,\"ticks\":\"\"}}}],\"scatter3d\":[{\"type\":\"scatter3d\",\"line\":{\"colorbar\":{\"outlinewidth\":0,\"ticks\":\"\"}},\"marker\":{\"colorbar\":{\"outlinewidth\":0,\"ticks\":\"\"}}}],\"scattermapbox\":[{\"type\":\"scattermapbox\",\"marker\":{\"colorbar\":{\"outlinewidth\":0,\"ticks\":\"\"}}}],\"scatterternary\":[{\"type\":\"scatterternary\",\"marker\":{\"colorbar\":{\"outlinewidth\":0,\"ticks\":\"\"}}}],\"scattercarpet\":[{\"type\":\"scattercarpet\",\"marker\":{\"colorbar\":{\"outlinewidth\":0,\"ticks\":\"\"}}}],\"carpet\":[{\"aaxis\":{\"endlinecolor\":\"#2a3f5f\",\"gridcolor\":\"white\",\"linecolor\":\"white\",\"minorgridcolor\":\"white\",\"startlinecolor\":\"#2a3f5f\"},\"baxis\":{\"endlinecolor\":\"#2a3f5f\",\"gridcolor\":\"white\",\"linecolor\":\"white\",\"minorgridcolor\":\"white\",\"startlinecolor\":\"#2a3f5f\"},\"type\":\"carpet\"}],\"table\":[{\"cells\":{\"fill\":{\"color\":\"#EBF0F8\"},\"line\":{\"color\":\"white\"}},\"header\":{\"fill\":{\"color\":\"#C8D4E3\"},\"line\":{\"color\":\"white\"}},\"type\":\"table\"}],\"barpolar\":[{\"marker\":{\"line\":{\"color\":\"#E5ECF6\",\"width\":0.5},\"pattern\":{\"fillmode\":\"overlay\",\"size\":10,\"solidity\":0.2}},\"type\":\"barpolar\"}],\"pie\":[{\"automargin\":true,\"type\":\"pie\"}]},\"layout\":{\"autotypenumbers\":\"strict\",\"colorway\":[\"#636efa\",\"#EF553B\",\"#00cc96\",\"#ab63fa\",\"#FFA15A\",\"#19d3f3\",\"#FF6692\",\"#B6E880\",\"#FF97FF\",\"#FECB52\"],\"font\":{\"color\":\"#2a3f5f\"},\"hovermode\":\"closest\",\"hoverlabel\":{\"align\":\"left\"},\"paper_bgcolor\":\"white\",\"plot_bgcolor\":\"#E5ECF6\",\"polar\":{\"bgcolor\":\"#E5ECF6\",\"angularaxis\":{\"gridcolor\":\"white\",\"linecolor\":\"white\",\"ticks\":\"\"},\"radialaxis\":{\"gridcolor\":\"white\",\"linecolor\":\"white\",\"ticks\":\"\"}},\"ternary\":{\"bgcolor\":\"#E5ECF6\",\"aaxis\":{\"gridcolor\":\"white\",\"linecolor\":\"white\",\"ticks\":\"\"},\"baxis\":{\"gridcolor\":\"white\",\"linecolor\":\"white\",\"ticks\":\"\"},\"caxis\":{\"gridcolor\":\"white\",\"linecolor\":\"white\",\"ticks\":\"\"}},\"coloraxis\":{\"colorbar\":{\"outlinewidth\":0,\"ticks\":\"\"}},\"colorscale\":{\"sequential\":[[0.0,\"#0d0887\"],[0.1111111111111111,\"#46039f\"],[0.2222222222222222,\"#7201a8\"],[0.3333333333333333,\"#9c179e\"],[0.4444444444444444,\"#bd3786\"],[0.5555555555555556,\"#d8576b\"],[0.6666666666666666,\"#ed7953\"],[0.7777777777777778,\"#fb9f3a\"],[0.8888888888888888,\"#fdca26\"],[1.0,\"#f0f921\"]],\"sequentialminus\":[[0.0,\"#0d0887\"],[0.1111111111111111,\"#46039f\"],[0.2222222222222222,\"#7201a8\"],[0.3333333333333333,\"#9c179e\"],[0.4444444444444444,\"#bd3786\"],[0.5555555555555556,\"#d8576b\"],[0.6666666666666666,\"#ed7953\"],[0.7777777777777778,\"#fb9f3a\"],[0.8888888888888888,\"#fdca26\"],[1.0,\"#f0f921\"]],\"diverging\":[[0,\"#8e0152\"],[0.1,\"#c51b7d\"],[0.2,\"#de77ae\"],[0.3,\"#f1b6da\"],[0.4,\"#fde0ef\"],[0.5,\"#f7f7f7\"],[0.6,\"#e6f5d0\"],[0.7,\"#b8e186\"],[0.8,\"#7fbc41\"],[0.9,\"#4d9221\"],[1,\"#276419\"]]},\"xaxis\":{\"gridcolor\":\"white\",\"linecolor\":\"white\",\"ticks\":\"\",\"title\":{\"standoff\":15},\"zerolinecolor\":\"white\",\"automargin\":true,\"zerolinewidth\":2},\"yaxis\":{\"gridcolor\":\"white\",\"linecolor\":\"white\",\"ticks\":\"\",\"title\":{\"standoff\":15},\"zerolinecolor\":\"white\",\"automargin\":true,\"zerolinewidth\":2},\"scene\":{\"xaxis\":{\"backgroundcolor\":\"#E5ECF6\",\"gridcolor\":\"white\",\"linecolor\":\"white\",\"showbackground\":true,\"ticks\":\"\",\"zerolinecolor\":\"white\",\"gridwidth\":2},\"yaxis\":{\"backgroundcolor\":\"#E5ECF6\",\"gridcolor\":\"white\",\"linecolor\":\"white\",\"showbackground\":true,\"ticks\":\"\",\"zerolinecolor\":\"white\",\"gridwidth\":2},\"zaxis\":{\"backgroundcolor\":\"#E5ECF6\",\"gridcolor\":\"white\",\"linecolor\":\"white\",\"showbackground\":true,\"ticks\":\"\",\"zerolinecolor\":\"white\",\"gridwidth\":2}},\"shapedefaults\":{\"line\":{\"color\":\"#2a3f5f\"}},\"annotationdefaults\":{\"arrowcolor\":\"#2a3f5f\",\"arrowhead\":0,\"arrowwidth\":1},\"geo\":{\"bgcolor\":\"white\",\"landcolor\":\"#E5ECF6\",\"subunitcolor\":\"white\",\"showland\":true,\"showlakes\":true,\"lakecolor\":\"white\"},\"title\":{\"x\":0.05},\"mapbox\":{\"style\":\"light\"}}},\"xaxis\":{\"anchor\":\"y\",\"domain\":[0.0,1.0],\"title\":{\"text\":\"Document in chronological order\"}},\"yaxis\":{\"anchor\":\"x\",\"domain\":[0.0,1.0],\"title\":{\"text\":\"Relative frequence\"}},\"legend\":{\"tracegroupgap\":0},\"title\":{\"text\":\"Relative frequency of paragraphs\"},\"barmode\":\"relative\"},                        {\"responsive\": true}                    ).then(function(){\n",
       "                            \n",
       "var gd = document.getElementById('83d19a33-71af-4b46-9af3-4660a9d47c57');\n",
       "var x = new MutationObserver(function (mutations, observer) {{\n",
       "        var display = window.getComputedStyle(gd).display;\n",
       "        if (!display || display === 'none') {{\n",
       "            console.log([gd, 'removed!']);\n",
       "            Plotly.purge(gd);\n",
       "            observer.disconnect();\n",
       "        }}\n",
       "}});\n",
       "\n",
       "// Listen for the removal of the full notebook cells\n",
       "var notebookContainer = gd.closest('#notebook-container');\n",
       "if (notebookContainer) {{\n",
       "    x.observe(notebookContainer, {childList: true});\n",
       "}}\n",
       "\n",
       "// Listen for the clearing of the current output cell\n",
       "var outputEl = gd.closest('.output');\n",
       "if (outputEl) {{\n",
       "    x.observe(outputEl, {childList: true});\n",
       "}}\n",
       "\n",
       "                        })                };                });            </script>        </div>"
      ]
     },
     "metadata": {},
     "output_type": "display_data"
    }
   ],
   "source": [
    "x_var = new_df.index + 1\n",
    "y_var = 'emo and lightning technology paragraph share of all paragraphs'\n",
    "\n",
    "\n",
    "fig = px.bar(new_df.sort_values(by=y_var, ascending=False), \n",
    "            x = x_var, \n",
    "            y = y_var,\n",
    "            hover_data=['author','title', 'year', 'emo and lightning technology paragraph share of all paragraphs'],\n",
    "            title= 'Relative frequency of paragraphs')\n",
    "             \n",
    "# Update x-axis label\n",
    "fig.update_xaxes(title_text='Document in chronological order')\n",
    "\n",
    "# Update y-axis label\n",
    "fig.update_yaxes(title_text='Relative frequence') \n",
    "\n",
    "fig.show()"
   ]
  },
  {
   "cell_type": "code",
   "execution_count": 99,
   "id": "b079a201",
   "metadata": {},
   "outputs": [
    {
     "data": {
      "text/plain": [
       "3697588"
      ]
     },
     "execution_count": 99,
     "metadata": {},
     "output_type": "execute_result"
    }
   ],
   "source": [
    "import plotly.io as io\n",
    "\n",
    "html_snippet_start = '<!DOCTYPE html> <html> <head> <title>Title</title> </head> <body>' \n",
    "html_snippet_end = ' </body></html> '\n",
    "\n",
    "html_as_string = io.to_html(fig, full_html=False)\n",
    "\n",
    "vis_in_html = html_snippet_start + html_as_string + html_snippet_end\n",
    "\n",
    "of = open(r'C:\\Users\\lakj\\Lighting in French Literature\\visualisations\\emo_in_light_para2.htm', 'w', encoding='utf-8-sig')\n",
    "of.write(vis_in_html)"
   ]
  },
  {
   "cell_type": "markdown",
   "id": "f3b2655a",
   "metadata": {},
   "source": [
    "# Keyword in context - or find a text snippet based on keywords and a range\n",
    "\n",
    "We want to find a word for example 'lumière' as well as words that are related to the word, and we have to have some context because we are actually interested in pointing down the text and seeing exactly how lumière is used.\n",
    "\n",
    "For this we need to use \\w. because it gives us more word characters and {30} checks that we get 30 word characters before we hit the letters lumière. \\b in front of lumière searches so that we only find words that begin with lumière and not words where lumière is part of the word, e.g. looking. After lumière, \\w.{30} searches for another 30 word characters.\n",
    "\n",
    "The pipe , | , means 'or' and alow us to get more than one word in the same search.\n",
    "\n",
    "Below I choose to look for contexts in texts of the author Balzac."
   ]
  },
  {
   "cell_type": "code",
   "execution_count": null,
   "id": "25c88a42",
   "metadata": {},
   "outputs": [],
   "source": [
    "text = ' '.join(df[df['author'] == 'Balzac']['clean_text'])\n",
    "import re\n",
    "context = re.findall(r'.{0,50}\\blampe.{0,40}|.{0,50}\\blustre.{0,40}', text)\n",
    "context"
   ]
  }
 ],
 "metadata": {
  "kernelspec": {
   "display_name": "Python 3 (ipykernel)",
   "language": "python",
   "name": "python3"
  },
  "language_info": {
   "codemirror_mode": {
    "name": "ipython",
    "version": 3
   },
   "file_extension": ".py",
   "mimetype": "text/x-python",
   "name": "python",
   "nbconvert_exporter": "python",
   "pygments_lexer": "ipython3",
   "version": "3.10.9"
  }
 },
 "nbformat": 4,
 "nbformat_minor": 5
}
