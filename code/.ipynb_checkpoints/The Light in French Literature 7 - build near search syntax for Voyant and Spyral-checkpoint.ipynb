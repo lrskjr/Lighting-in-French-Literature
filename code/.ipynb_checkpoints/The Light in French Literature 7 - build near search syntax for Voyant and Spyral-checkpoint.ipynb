{
 "cells": [
  {
   "cell_type": "code",
   "execution_count": 95,
   "id": "959ebb69",
   "metadata": {},
   "outputs": [
    {
     "name": "stdout",
     "output_type": "stream",
     "text": [
      "2890\n",
      "['\"veilleuse chagrin\"~5', '\"veilleuse charmant\"~5', '\"veilleuse charme\"~5', '\"veilleuse complicité\"~5', '\"veilleuse confus\"~5', '\"veilleuse contempler\"~5', '\"veilleuse couler\"~5', '\"veilleuse craindre\"~5', '\"veilleuse déception\"~5', '\"veilleuse déchirer\"~5', '\"veilleuse désir\"~5', '\"veilleuse détresse\"~5', '\"veilleuse doucement\"~5', '\"veilleuse doux\"~5', '\"veilleuse éblouir\"~5', '\"veilleuse éblouissant\"~5', '\"veilleuse entendre\"~5', '\"veilleuse épuisement\"~5', '\"veilleuse étouffement\"~5', '\"veilleuse étourdi\"~5']\n"
     ]
    }
   ],
   "source": [
    "from pathlib import Path\n",
    "import re\n",
    "\n",
    "#### Read two lists of keywords - technology and emotion keyowrds ####\n",
    "\n",
    "# path to keyword lists directory \n",
    "input_dir = Path.cwd() / '../data/key_word_lists' \n",
    "\n",
    "\n",
    "# get the tech words\n",
    "key_word_file_name = 'technology_list.txt'\n",
    "with open(input_dir / key_word_file_name, 'r', encoding='utf-8-sig') as file:\n",
    "    tech_key_words = file.read().split('\\n')\n",
    "    \n",
    "# get the emo words    \n",
    "key_word_file_name = 'emotion_list.txt'\n",
    "with open(input_dir / key_word_file_name, 'r', encoding='utf-8-sig') as file:\n",
    "    emo_key_words = file.read().split('\\n')\n",
    "\n",
    "    \n",
    "def generate_keyword_combinations(list1, list2, value):\n",
    "    combinations = []\n",
    "    for keyword1 in list1:\n",
    "        for keyword2 in list2:\n",
    "            combination = f'\"{keyword1} {keyword2}\"~{value}'\n",
    "            combinations.append(combination)\n",
    "    return combinations\n",
    "\n",
    "# Adjust the list1, list2, window_size, and text variables to match your requirements and data.\n",
    "# The output format is \"keyword1 keyword2\"~5 where 5 represents the window size value.\n",
    "\n",
    "value = 5\n",
    "combinations = generate_keyword_combinations(tech_key_words, emo_key_words, value)\n",
    "print (len(combinations))\n",
    "print (combinations[780:800])"
   ]
  },
  {
   "cell_type": "markdown",
   "id": "18ee0545",
   "metadata": {},
   "source": [
    "List of positive results - ready to copy / paste into Spyral Trends tool.\n",
    "\n",
    "['\"chandelle éblouissant\"~5', '\"chandelle doucement\"~5', '\"chandelle sourire\"~5', '\"chandelle souvenir\"~5', '\"chandelle poitrine\"~5', '\"chandelle triste\"~5', '\"chandelle voix\"~5', '\"flambeau désir\"~5', '\"gaz horreur\"~5', '\"gaz las\"~5', '\"gaz louche\"~5', '\"gaz personnel\"~5', '\"gaz louche\"~5', '\"gaz monotone\"~5', '\"gaz voix\"~5', '\"lampe agonie\"~5', '\"lampe amour\"~5', '\"lampe doucement\"~5', '\"lampe doux\"~5', '\"lampe détresse\"~5', '\"lampe heureux\"~5', '\"lampe plaisir\"~5', '\"lampe poitrine\"~5',  '\"lampe paroles\"~5', '\"lampe regretter\"~5', '\"lampe voix\"~5', '\"lampe triste\"~5', '\"lampe sourire\"~5','\"lampe souvenir\"~5', '\"lampion triste\"~5', '\"falot souvenir\"~5', '\"lanterne entendre\"~5', '\"lanterne remords\"~5', '\"lanterne voix\"~5']"
   ]
  }
 ],
 "metadata": {
  "kernelspec": {
   "display_name": "Python 3 (ipykernel)",
   "language": "python",
   "name": "python3"
  },
  "language_info": {
   "codemirror_mode": {
    "name": "ipython",
    "version": 3
   },
   "file_extension": ".py",
   "mimetype": "text/x-python",
   "name": "python",
   "nbconvert_exporter": "python",
   "pygments_lexer": "ipython3",
   "version": "3.10.9"
  }
 },
 "nbformat": 4,
 "nbformat_minor": 5
}
